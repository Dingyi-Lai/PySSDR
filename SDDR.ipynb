{
 "cells": [
  {
   "cell_type": "code",
   "execution_count": 1,
   "metadata": {},
   "outputs": [
    {
     "ename": "ImportError",
     "evalue": "cannot import name 'Sddr_Single' from 'deepregression' (/Users/christina.bukas/Documents/AI_projects/code/reimplementations/PySDDR/deepregression.py)",
     "output_type": "error",
     "traceback": [
      "\u001b[0;31m---------------------------------------------------------------------------\u001b[0m",
      "\u001b[0;31mImportError\u001b[0m                               Traceback (most recent call last)",
      "\u001b[0;32m<ipython-input-1-f82adc6b6589>\u001b[0m in \u001b[0;36m<module>\u001b[0;34m\u001b[0m\n\u001b[1;32m      5\u001b[0m \u001b[0;32mimport\u001b[0m \u001b[0mtorch\u001b[0m\u001b[0;34m.\u001b[0m\u001b[0moptim\u001b[0m \u001b[0;32mas\u001b[0m \u001b[0moptim\u001b[0m\u001b[0;34m\u001b[0m\u001b[0;34m\u001b[0m\u001b[0m\n\u001b[1;32m      6\u001b[0m \u001b[0;32mimport\u001b[0m \u001b[0mpandas\u001b[0m \u001b[0;32mas\u001b[0m \u001b[0mpd\u001b[0m\u001b[0;34m\u001b[0m\u001b[0;34m\u001b[0m\u001b[0m\n\u001b[0;32m----> 7\u001b[0;31m \u001b[0;32mfrom\u001b[0m \u001b[0mdeepregression\u001b[0m \u001b[0;32mimport\u001b[0m \u001b[0mSddr_Single\u001b[0m\u001b[0;34m,\u001b[0m \u001b[0mSddr\u001b[0m\u001b[0;34m\u001b[0m\u001b[0;34m\u001b[0m\u001b[0m\n\u001b[0m\u001b[1;32m      8\u001b[0m \u001b[0;32mfrom\u001b[0m \u001b[0mdataset\u001b[0m \u001b[0;32mimport\u001b[0m \u001b[0mMyDataset\u001b[0m\u001b[0;34m\u001b[0m\u001b[0;34m\u001b[0m\u001b[0m\n",
      "\u001b[0;31mImportError\u001b[0m: cannot import name 'Sddr_Single' from 'deepregression' (/Users/christina.bukas/Documents/AI_projects/code/reimplementations/PySDDR/deepregression.py)"
     ]
    }
   ],
   "source": [
    "import torch\n",
    "from torch import nn\n",
    "import numpy as np\n",
    "from torch.utils.data import DataLoader\n",
    "import torch.optim as optim\n",
    "import pandas as pd\n",
    "from deepregression import Sddr_Single, Sddr\n",
    "from dataset import MyDataset"
   ]
  },
  {
   "cell_type": "markdown",
   "metadata": {},
   "source": [
    "# todo\n",
    "\n",
    "sddr single:\n",
    "input to NN cannot be dicts\n",
    "\n",
    "\n",
    "SDDR: may be we make our own get_parameters?"
   ]
  },
  {
   "cell_type": "code",
   "execution_count": 16,
   "metadata": {},
   "outputs": [],
   "source": [
    "def train():\n",
    "    \n",
    "    cur_distribution = \"poisson\"\n",
    "    family = {'normal':{'loc': 'whateva', 'scale': 'whateva2'}, 'poisson': {'rate': 'whateva'}, 'binomial':{'n': 'whateva', 'p': 'whateva'}}\n",
    "    \n",
    "    regularization_params = dict()\n",
    "    regularization_params[\"rate\"] = 1.   # already mutiplied in full_P\n",
    "        \n",
    "    x_path = r'./example_data/simple_gam/X.csv'\n",
    "    y_path = r'./example_data/simple_gam/Y.csv'\n",
    "    \n",
    "    formulas = dict()\n",
    "    formulas['rate'] = '~1+spline(x1, bs=\"bs\",df=9)+spline(x2, bs=\"bs\",df=9)+d1(x1)+d2(x2)'\n",
    "    \n",
    "    deep_models_dict = dict()\n",
    "    deep_models_dict['rate'] = dict()\n",
    "    deep_models_dict['rate']['d1'] = nn.Sequential(nn.Linear(1,15))\n",
    "    deep_models_dict['rate']['d2'] = nn.Sequential(nn.Linear(1,3),nn.ReLU(), nn.Linear(3,8))\n",
    "    \n",
    "    deep_shapes = dict()\n",
    "    deep_shapes['rate'] = {\"d1\" : 15, \"d2\" : 8}\n",
    "    \n",
    "    \n",
    "    dataset = MyDataset(x_path, y_path,family, formulas,cur_distribution, deep_models_dict,deep_shapes)\n",
    "    loader = DataLoader(\n",
    "        dataset,\n",
    "        batch_size=1000,\n",
    "    )\n",
    "    parsed_formula_contents = dataset.get_parsed_formula_content()\n",
    "    \n",
    "    device = torch.device(\"cuda\" if torch.cuda.is_available() else \"cpu\")\n",
    "    bignet = Sddr(cur_distribution, regularization_params, parsed_formula_contents)\n",
    "    bignet = bignet.to(device)\n",
    "    optimizer = optim.RMSprop(bignet.parameters())\n",
    "\n",
    "    bignet.train()\n",
    "    print('Begin training ...')\n",
    "    for epoch in range(1, 2500): \n",
    "\n",
    "        for batch in loader:\n",
    "            target = batch['target'].to(device)\n",
    "            meta_datadict = batch['meta_datadict']          # .to(device) should be improved \n",
    "            meta_datadict['rate']['structured'] = meta_datadict['rate']['structured'].to(device)\n",
    "            meta_datadict['rate']['d1'] = meta_datadict['rate']['d1'].to(device)\n",
    "           \n",
    "            optimizer.zero_grad()\n",
    "            output = bignet(meta_datadict)\n",
    "            loss = torch.mean(bignet.get_loss(target))\n",
    "            loss.backward()\n",
    "            optimizer.step()\n",
    "        if epoch % 100 == 0:\n",
    "            print('Train Epoch: {} \\t Loss: {:.6f}'.format(epoch,loss.item()))\n",
    "    for param in bignet.parameters():\n",
    "        print(param.size())\n",
    "    return list(bignet.parameters())[-2].detach().numpy(), meta_datadict"
   ]
  },
  {
   "cell_type": "code",
   "execution_count": 17,
   "metadata": {},
   "outputs": [
    {
     "name": "stdout",
     "output_type": "stream",
     "text": [
      "results from split formula\n",
      "1+spline(x1,bs=\"bs\",df=9)+spline(x2,bs=\"bs\",df=9)\n",
      "['d1(x1)', 'd2(x2)']\n",
      "Begin training ...\n",
      "Train Epoch: 100 \t Loss: 23.097507\n",
      "Train Epoch: 200 \t Loss: 11.804540\n",
      "Train Epoch: 300 \t Loss: 10.777796\n",
      "Train Epoch: 400 \t Loss: 10.657060\n",
      "Train Epoch: 500 \t Loss: 10.623084\n",
      "Train Epoch: 600 \t Loss: 10.618132\n",
      "Train Epoch: 700 \t Loss: 10.630344\n",
      "Train Epoch: 800 \t Loss: 10.621990\n",
      "Train Epoch: 900 \t Loss: 10.618189\n",
      "Train Epoch: 1000 \t Loss: 10.620993\n",
      "Train Epoch: 1100 \t Loss: 10.622469\n",
      "Train Epoch: 1200 \t Loss: 10.621264\n",
      "Train Epoch: 1300 \t Loss: 10.620602\n",
      "Train Epoch: 1400 \t Loss: 10.621006\n",
      "Train Epoch: 1500 \t Loss: 10.620811\n",
      "Train Epoch: 1600 \t Loss: 10.620588\n",
      "Train Epoch: 1700 \t Loss: 10.620577\n",
      "Train Epoch: 1800 \t Loss: 10.620593\n",
      "Train Epoch: 1900 \t Loss: 10.620001\n",
      "Train Epoch: 2000 \t Loss: 10.620045\n",
      "Train Epoch: 2100 \t Loss: 10.619385\n",
      "Train Epoch: 2200 \t Loss: 10.619472\n",
      "Train Epoch: 2300 \t Loss: 10.619110\n",
      "Train Epoch: 2400 \t Loss: 10.619228\n",
      "torch.Size([15, 1])\n",
      "torch.Size([15])\n",
      "torch.Size([3, 1])\n",
      "torch.Size([3])\n",
      "torch.Size([8, 3])\n",
      "torch.Size([8])\n",
      "torch.Size([1, 19])\n",
      "torch.Size([1, 23])\n"
     ]
    }
   ],
   "source": [
    "param, meta_datadict = train()    # using adam optimizer can have smooth decreasing loss, using rmsprop the losses converge to a high value?"
   ]
  },
  {
   "cell_type": "code",
   "execution_count": 18,
   "metadata": {},
   "outputs": [
    {
     "data": {
      "text/plain": [
       "(1000, 19)"
      ]
     },
     "execution_count": 18,
     "metadata": {},
     "output_type": "execute_result"
    }
   ],
   "source": [
    "b_aut = meta_datadict['rate']['structured'].detach().numpy()\n",
    "b_aut.shape"
   ]
  },
  {
   "cell_type": "code",
   "execution_count": 19,
   "metadata": {},
   "outputs": [
    {
     "data": {
      "text/plain": [
       "array([1.0000000e+00, 0.0000000e+00, 0.0000000e+00, 0.0000000e+00,\n",
       "       8.2510240e-02, 6.2818539e-01, 2.8843054e-01, 8.7381050e-04,\n",
       "       0.0000000e+00, 0.0000000e+00, 0.0000000e+00, 0.0000000e+00,\n",
       "       0.0000000e+00, 0.0000000e+00, 0.0000000e+00, 2.4295752e-03,\n",
       "       7.4673563e-02, 4.8595178e-01, 4.3694505e-01], dtype=float32)"
      ]
     },
     "execution_count": 19,
     "metadata": {},
     "output_type": "execute_result"
    }
   ],
   "source": [
    "b_aut[0,:]"
   ]
  },
  {
   "cell_type": "code",
   "execution_count": 20,
   "metadata": {},
   "outputs": [
    {
     "data": {
      "text/plain": [
       "array([[ 2.083787  ,  1.9523523 ,  1.473148  ,  0.5059978 , -0.5328081 ,\n",
       "        -0.86177635, -0.50600684,  0.4328535 ,  1.3415076 ,  1.854659  ,\n",
       "         2.3974814 ,  2.170725  ,  1.7714853 ,  1.1269901 ,  0.4804498 ,\n",
       "        -0.16591364, -0.8464178 , -1.3247423 , -1.5499686 ]],\n",
       "      dtype=float32)"
      ]
     },
     "execution_count": 20,
     "metadata": {},
     "output_type": "execute_result"
    }
   ],
   "source": [
    "param"
   ]
  },
  {
   "cell_type": "markdown",
   "metadata": {},
   "source": [
    "## evaluation"
   ]
  },
  {
   "cell_type": "code",
   "execution_count": 21,
   "metadata": {},
   "outputs": [
    {
     "name": "stdout",
     "output_type": "stream",
     "text": [
      "(19, 1)\n"
     ]
    }
   ],
   "source": [
    "true_coeff = pd.read_csv (r'example_data/simple_gam/true_coefficients.csv',sep=';',header=None).values\n",
    "B = pd.read_csv (r'example_data/simple_gam/B.csv',sep=';',header=None).values\n",
    "#B = pd.read_csv (r'B_gen.csv',sep=';',header=None).values\n",
    "#B=B[:,1:]\n",
    "X = pd.read_csv (r'../example_data/simple_gam/X.csv',sep=';',header=None).values\n",
    "print(true_coeff.shape)"
   ]
  },
  {
   "cell_type": "code",
   "execution_count": 22,
   "metadata": {},
   "outputs": [
    {
     "name": "stdout",
     "output_type": "stream",
     "text": [
      "True\n"
     ]
    }
   ],
   "source": [
    "print(meta_datadict['rate']['structured'].size() == B.shape)\n"
   ]
  },
  {
   "cell_type": "code",
   "execution_count": 23,
   "metadata": {},
   "outputs": [
    {
     "data": {
      "text/plain": [
       "(19, 1)"
      ]
     },
     "execution_count": 23,
     "metadata": {},
     "output_type": "execute_result"
    }
   ],
   "source": [
    "true_coeff.shape"
   ]
  },
  {
   "cell_type": "code",
   "execution_count": 24,
   "metadata": {},
   "outputs": [],
   "source": [
    "hatY = np.matmul(B[:,1:10],true_coeff[1:10])"
   ]
  },
  {
   "cell_type": "code",
   "execution_count": 25,
   "metadata": {},
   "outputs": [
    {
     "name": "stdout",
     "output_type": "stream",
     "text": [
      "(19, 1)\n"
     ]
    }
   ],
   "source": [
    "pred_coeff = param\n",
    "pred_coeff = np.transpose(pred_coeff)\n",
    "print(pred_coeff.shape)\n",
    "hatY_pred = np.matmul(b_aut[:,1:10],pred_coeff[1:10])"
   ]
  },
  {
   "cell_type": "code",
   "execution_count": 26,
   "metadata": {},
   "outputs": [],
   "source": [
    "firstCov = X[:,0] \n",
    "sortedHatY = [x for _,x in sorted(zip(firstCov,hatY))]\n",
    "sortedHatY_pred = [x for _,x in sorted(zip(firstCov,hatY_pred))]"
   ]
  },
  {
   "cell_type": "code",
   "execution_count": 27,
   "metadata": {},
   "outputs": [
    {
     "data": {
      "text/plain": [
       "Text(0.5, 1.0, 'PySDDR_coefficient')"
      ]
     },
     "execution_count": 27,
     "metadata": {},
     "output_type": "execute_result"
    },
    {
     "data": {
      "image/png": "[encoded data removed]",
      "text/plain": [
       "<Figure size 720x360 with 2 Axes>"
      ]
     },
     "metadata": {
      "needs_background": "light"
     },
     "output_type": "display_data"
    }
   ],
   "source": [
    "import matplotlib.pyplot as plt\n",
    "plt.figure(figsize=(10,5))\n",
    "plt.subplot(1,2,1)\n",
    "plt.scatter(np.sort(firstCov), sortedHatY)\n",
    "plt.title('true_coefficient')\n",
    "plt.subplot(1,2,2)\n",
    "plt.scatter(np.sort(firstCov), sortedHatY_pred)\n",
    "plt.title('PySDDR_coefficient')"
   ]
  },
  {
   "cell_type": "markdown",
   "metadata": {},
   "source": [
    "# test Sddr_Single"
   ]
  },
  {
   "cell_type": "code",
   "execution_count": 15,
   "metadata": {
    "scrolled": true
   },
   "outputs": [],
   "source": [
    "deep_shapes = {\"dm1\" : 5, \"dm2\" : 8}\n",
    "\n",
    "net2= nn.Sequential(nn.Linear(10,3),nn.ReLU(), nn.Linear(3,8))"
   ]
  },
  {
   "cell_type": "code",
   "execution_count": 16,
   "metadata": {},
   "outputs": [],
   "source": [
    "deep_models_dict = {\"dm1\" : nn.Linear(10,5, bias = False), \"dm2\" : net2}"
   ]
  },
  {
   "cell_type": "code",
   "execution_count": 17,
   "metadata": {},
   "outputs": [],
   "source": [
    "struct_shapes = 10"
   ]
  },
  {
   "cell_type": "code",
   "execution_count": 18,
   "metadata": {},
   "outputs": [],
   "source": [
    "P = np.eye(10)"
   ]
  },
  {
   "cell_type": "code",
   "execution_count": 19,
   "metadata": {},
   "outputs": [],
   "source": [
    "data = torch.ones(20,10)\n",
    "datadict = {\"structured\": data, \"dm1\": data, \"dm2\": data}"
   ]
  },
  {
   "cell_type": "code",
   "execution_count": 20,
   "metadata": {},
   "outputs": [],
   "source": [
    "net = deepregression.Sddr_Single(deep_models_dict, deep_shapes, struct_shapes, P)"
   ]
  },
  {
   "cell_type": "code",
   "execution_count": 21,
   "metadata": {},
   "outputs": [
    {
     "data": {
      "text/plain": [
       "tensor([[-0.0226],\n",
       "        [-0.0226],\n",
       "        [-0.0226],\n",
       "        [-0.0226],\n",
       "        [-0.0226],\n",
       "        [-0.0226],\n",
       "        [-0.0226],\n",
       "        [-0.0226],\n",
       "        [-0.0226],\n",
       "        [-0.0226],\n",
       "        [-0.0226],\n",
       "        [-0.0226],\n",
       "        [-0.0226],\n",
       "        [-0.0226],\n",
       "        [-0.0226],\n",
       "        [-0.0226],\n",
       "        [-0.0226],\n",
       "        [-0.0226],\n",
       "        [-0.0226],\n",
       "        [-0.0226]], grad_fn=<AddBackward0>)"
      ]
     },
     "execution_count": 21,
     "metadata": {},
     "output_type": "execute_result"
    }
   ],
   "source": [
    "net(datadict)"
   ]
  },
  {
   "cell_type": "code",
   "execution_count": 22,
   "metadata": {},
   "outputs": [
    {
     "data": {
      "text/plain": [
       "tensor([[0.3598]], grad_fn=<MmBackward>)"
      ]
     },
     "execution_count": 22,
     "metadata": {},
     "output_type": "execute_result"
    }
   ],
   "source": [
    "net.get_regularization()"
   ]
  },
  {
   "cell_type": "code",
   "execution_count": 23,
   "metadata": {},
   "outputs": [
    {
     "name": "stdout",
     "output_type": "stream",
     "text": [
      "Parameter containing:\n",
      "tensor([[-0.1935,  0.0301, -0.0123,  0.0357, -0.2134, -0.0730, -0.0048, -0.2697,\n",
      "          0.0231, -0.2892],\n",
      "        [-0.3097, -0.1286,  0.0496, -0.0402,  0.1834,  0.2827,  0.1901, -0.0984,\n",
      "         -0.1785, -0.1594],\n",
      "        [ 0.2092, -0.2141,  0.1104, -0.1351,  0.1407, -0.0386, -0.2448, -0.3022,\n",
      "          0.1182,  0.1253],\n",
      "        [ 0.0958,  0.1131, -0.0343, -0.1154,  0.0705, -0.1790,  0.1225, -0.0100,\n",
      "          0.0172,  0.1540],\n",
      "        [-0.0907, -0.0408, -0.2554,  0.1053,  0.2946,  0.1850, -0.2062, -0.1011,\n",
      "         -0.2434, -0.2904]], requires_grad=True)\n",
      "Parameter containing:\n",
      "tensor([[ 0.0723, -0.3095,  0.2522, -0.2184, -0.3135,  0.1931,  0.0806,  0.1451,\n",
      "         -0.1344, -0.0403],\n",
      "        [ 0.0625, -0.2454,  0.2284,  0.1962,  0.1202, -0.1369, -0.0387, -0.1889,\n",
      "         -0.3157,  0.2815],\n",
      "        [-0.2833,  0.1714, -0.1251, -0.1508,  0.1746,  0.1788,  0.2207,  0.1514,\n",
      "          0.1758, -0.2217]], requires_grad=True)\n",
      "Parameter containing:\n",
      "tensor([-0.1996,  0.0521,  0.1826], requires_grad=True)\n",
      "Parameter containing:\n",
      "tensor([[ 0.1985, -0.1477,  0.0056],\n",
      "        [ 0.5741,  0.1799,  0.2436],\n",
      "        [ 0.4924,  0.5052,  0.1599],\n",
      "        [-0.4921, -0.0860,  0.4233],\n",
      "        [-0.3430, -0.1013, -0.0256],\n",
      "        [ 0.3157,  0.5036, -0.0057],\n",
      "        [-0.2269,  0.0636,  0.4201],\n",
      "        [ 0.4668, -0.5302, -0.3753]], requires_grad=True)\n",
      "Parameter containing:\n",
      "tensor([-0.4091,  0.4470, -0.0806,  0.4474,  0.2930,  0.0864,  0.3742,  0.2597],\n",
      "       requires_grad=True)\n",
      "Parameter containing:\n",
      "tensor([[-0.2501,  0.2258,  0.0919, -0.2480,  0.0470,  0.2709, -0.1401,  0.2031,\n",
      "         -0.1980, -0.0251]], requires_grad=True)\n",
      "Parameter containing:\n",
      "tensor([[ 1.7300e-01, -7.1629e-02,  2.4312e-01,  2.2089e-01, -2.6441e-01,\n",
      "         -2.1641e-01,  1.6032e-01,  2.3320e-04, -1.4924e-02,  9.4535e-02,\n",
      "         -8.4762e-02,  1.3740e-01, -8.4525e-02]], requires_grad=True)\n"
     ]
    }
   ],
   "source": [
    "for i in net.parameters():\n",
    "    print(i)"
   ]
  },
  {
   "cell_type": "code",
   "execution_count": 53,
   "metadata": {},
   "outputs": [
    {
     "name": "stdout",
     "output_type": "stream",
     "text": [
      "Parameter containing:\n",
      "tensor([[-0.6698, -0.1423],\n",
      "        [ 0.5038,  0.0981],\n",
      "        [-0.1744, -0.1339],\n",
      "        [-0.4113,  0.3310],\n",
      "        [-0.4738, -0.2220]], requires_grad=True)\n",
      "Parameter containing:\n",
      "tensor([[ 0.1450,  0.1367,  0.1768,  0.1635, -0.0770,  0.1613, -0.0192,  0.0786,\n",
      "         -0.2005, -0.2166, -0.2112,  0.0377,  0.0462,  0.1035,  0.1268, -0.0238,\n",
      "          0.0126, -0.0916,  0.1823]], requires_grad=True)\n",
      "Parameter containing:\n",
      "tensor([[-0.1046,  0.2764, -0.3203, -0.0709,  0.2124]], requires_grad=True)\n"
     ]
    }
   ],
   "source": [
    "for i in bignet.parameters():\n",
    "    print(i)"
   ]
  },
  {
   "cell_type": "markdown",
   "metadata": {},
   "source": [
    "# Test Sddr"
   ]
  },
  {
   "cell_type": "code",
   "execution_count": 838,
   "metadata": {},
   "outputs": [],
   "source": [
    "family= \"normal\"\n"
   ]
  },
  {
   "cell_type": "code",
   "execution_count": 839,
   "metadata": {},
   "outputs": [],
   "source": [
    "\n",
    "parsed_formula_contents = dict()\n",
    "parsed_formula_contents[\"loc\"] = {\"deep_models_dict\": deep_models_dict, \"deep_shapes\": deep_shapes, \"struct_shapes\": struct_shapes, \"P\": P}\n",
    "parsed_formula_contents[\"scale\"] = {\"deep_models_dict\": dict(), \"deep_shapes\": dict(), \"struct_shapes\": struct_shapes, \"P\": P}\n",
    "\n"
   ]
  },
  {
   "cell_type": "code",
   "execution_count": 840,
   "metadata": {},
   "outputs": [],
   "source": [
    "regularization_params = dict()\n",
    "\n",
    "regularization_params[\"loc\"] = 1.\n",
    "regularization_params[\"scale\"] = 1.\n"
   ]
  },
  {
   "cell_type": "code",
   "execution_count": 841,
   "metadata": {},
   "outputs": [],
   "source": [
    "meta_datadict = dict()\n",
    "\n",
    "'''\n",
    "formulas = dict()\n",
    "\n",
    "formulas['loc'] = '1 + s(x1) + s(x2) + d(x1) + d(x2)'\n",
    "'\n",
    "formulas['scale'] = '1 + s(x)' \n",
    "\n",
    "meta_datadict = parse_formulas(formulas, data)\n",
    "        \n",
    "'''\n",
    "\n",
    "meta_datadict[\"loc\"] = datadict # datadict = {\"structured\": data, \"dm1\": data, \"dm2\": data}\n",
    "meta_datadict[\"scale\"] = {\"structured\": data}\n",
    "\n",
    "\n"
   ]
  },
  {
   "cell_type": "code",
   "execution_count": 842,
   "metadata": {},
   "outputs": [],
   "source": [
    "bignet = deepregression.Sddr(family, regularization_params, parsed_formula_contents)"
   ]
  },
  {
   "cell_type": "code",
   "execution_count": 843,
   "metadata": {},
   "outputs": [
    {
     "name": "stdout",
     "output_type": "stream",
     "text": [
      "loc\n",
      "scale\n"
     ]
    },
    {
     "data": {
      "text/plain": [
       "Normal(loc: torch.Size([20, 1]), scale: torch.Size([20, 1]))"
      ]
     },
     "execution_count": 843,
     "metadata": {},
     "output_type": "execute_result"
    }
   ],
   "source": [
    "bignet(meta_datadict)"
   ]
  },
  {
   "cell_type": "code",
   "execution_count": 844,
   "metadata": {},
   "outputs": [
    {
     "name": "stdout",
     "output_type": "stream",
     "text": [
      "Sddr_Single(\n",
      "  (dm1): Linear(in_features=10, out_features=5, bias=False)\n",
      "  (dm2): Sequential(\n",
      "    (0): Linear(in_features=10, out_features=3, bias=True)\n",
      "    (1): ReLU()\n",
      "    (2): Linear(in_features=3, out_features=8, bias=True)\n",
      "  )\n",
      "  (structured_head): Linear(in_features=10, out_features=1, bias=False)\n",
      "  (deep_head): Linear(in_features=13, out_features=1, bias=False)\n",
      ")\n",
      "Sddr_Single(\n",
      "  (structured_head): Linear(in_features=10, out_features=1, bias=False)\n",
      ")\n"
     ]
    }
   ],
   "source": [
    "for i in bignet.children():\n",
    "    print(i)"
   ]
  },
  {
   "cell_type": "code",
   "execution_count": 845,
   "metadata": {},
   "outputs": [
    {
     "name": "stdout",
     "output_type": "stream",
     "text": [
      "Parameter containing:\n",
      "tensor([[-0.0450,  0.3132, -0.2533, -0.0663,  0.1513,  0.1618, -0.1711,  0.1751,\n",
      "          0.2034, -0.1013],\n",
      "        [ 0.1457, -0.1887,  0.1578, -0.0177, -0.0884, -0.2482,  0.1933,  0.1885,\n",
      "          0.1223,  0.1456],\n",
      "        [-0.2872,  0.2873,  0.0221,  0.1267, -0.1926, -0.1228, -0.1013, -0.3115,\n",
      "         -0.1070,  0.3092],\n",
      "        [ 0.2323, -0.0799,  0.2225,  0.0531,  0.0059,  0.1509, -0.1401,  0.2687,\n",
      "          0.1905, -0.2308],\n",
      "        [-0.0035, -0.1833, -0.1211, -0.0225, -0.2246,  0.0049, -0.0644, -0.2636,\n",
      "         -0.1963, -0.2150]], requires_grad=True)\n",
      "Parameter containing:\n",
      "tensor([[ 0.1504,  0.0733, -0.0326,  0.1949, -0.0519, -0.0607, -0.0694,  0.0783,\n",
      "         -0.2417, -0.0261],\n",
      "        [-0.2603, -0.0073,  0.2344, -0.2413, -0.1986, -0.1428, -0.2594,  0.0118,\n",
      "         -0.1722,  0.1692],\n",
      "        [ 0.0141, -0.2903,  0.2476, -0.2810, -0.0929, -0.2952,  0.1316, -0.0939,\n",
      "          0.1434, -0.0977]], requires_grad=True)\n",
      "Parameter containing:\n",
      "tensor([0.2397, 0.1327, 0.1444], requires_grad=True)\n",
      "Parameter containing:\n",
      "tensor([[ 0.0546, -0.4211, -0.0831],\n",
      "        [-0.4595, -0.5765,  0.0705],\n",
      "        [-0.3481,  0.2289,  0.0538],\n",
      "        [ 0.4195,  0.3138, -0.3943],\n",
      "        [ 0.0446, -0.0511, -0.4801],\n",
      "        [-0.2535, -0.4461, -0.2677],\n",
      "        [-0.4290,  0.4814, -0.0919],\n",
      "        [-0.1165,  0.1927,  0.2213]], requires_grad=True)\n",
      "Parameter containing:\n",
      "tensor([-0.5256,  0.3756,  0.1480,  0.2058,  0.5054, -0.1609,  0.4523,  0.0451],\n",
      "       requires_grad=True)\n",
      "Parameter containing:\n",
      "tensor([[-0.1032, -0.2826,  0.2035,  0.0458,  0.1571, -0.0421, -0.2679,  0.3128,\n",
      "         -0.2690,  0.0560]], requires_grad=True)\n",
      "Parameter containing:\n",
      "tensor([[-0.1785, -0.1413,  0.2162, -0.1403, -0.0686, -0.1385, -0.2135,  0.0126,\n",
      "         -0.0471, -0.1484,  0.2358, -0.1200,  0.1646]], requires_grad=True)\n",
      "Parameter containing:\n",
      "tensor([[-0.1944, -0.1053, -0.2871, -0.0242, -0.0027,  0.2059,  0.0305,  0.2846,\n",
      "          0.0894, -0.0680]], requires_grad=True)\n"
     ]
    }
   ],
   "source": [
    "for i in bignet.parameters():\n",
    "    print(i)"
   ]
  },
  {
   "cell_type": "code",
   "execution_count": 846,
   "metadata": {},
   "outputs": [],
   "source": [
    "Y = torch.ones([20,1])"
   ]
  },
  {
   "cell_type": "code",
   "execution_count": 847,
   "metadata": {},
   "outputs": [
    {
     "data": {
      "text/plain": [
       "torch.Size([20, 1])"
      ]
     },
     "execution_count": 847,
     "metadata": {},
     "output_type": "execute_result"
    }
   ],
   "source": [
    "Y.size()"
   ]
  },
  {
   "cell_type": "code",
   "execution_count": 848,
   "metadata": {},
   "outputs": [],
   "source": [
    "loss = bignet.get_loss(Y)"
   ]
  },
  {
   "cell_type": "code",
   "execution_count": 850,
   "metadata": {},
   "outputs": [],
   "source": [
    "loss.mean().backward()"
   ]
  },
  {
   "cell_type": "markdown",
   "metadata": {},
   "source": [
    "# testing for dictionary as input to neural network module"
   ]
  },
  {
   "cell_type": "code",
   "execution_count": 9,
   "metadata": {},
   "outputs": [],
   "source": [
    "import torch"
   ]
  },
  {
   "cell_type": "code",
   "execution_count": 171,
   "metadata": {},
   "outputs": [],
   "source": [
    "class testnn(nn.Module):\n",
    "    \n",
    "    def __init__(self):\n",
    "        super(testnn, self).__init__()\n",
    "        \n",
    "        \n",
    "        self.weights = nn.Parameter(torch.ones(784, 10) )\n",
    "        self.bias = nn.Parameter(torch.zeros(10))\n",
    "\n",
    "    def forward(self, xa):\n",
    "        #xa = datadict[\"a\"]\n",
    "        #xb = datadict[\"b\"]\n",
    "        out = xa @ self.weights + xa @ self.weights + self.bias\n",
    "        return out\n",
    "  "
   ]
  },
  {
   "cell_type": "code",
   "execution_count": 172,
   "metadata": {},
   "outputs": [],
   "source": [
    "testnn_obj = testnn()"
   ]
  },
  {
   "cell_type": "code",
   "execution_count": 173,
   "metadata": {},
   "outputs": [],
   "source": [
    "data = torch.ones([784,10]).T"
   ]
  },
  {
   "cell_type": "code",
   "execution_count": 174,
   "metadata": {},
   "outputs": [],
   "source": [
    "out = testnn_obj(data)"
   ]
  },
  {
   "cell_type": "code",
   "execution_count": 175,
   "metadata": {},
   "outputs": [],
   "source": [
    "param_list = []\n",
    "for i in testnn_obj.parameters():\n",
    "    param_list.append(i)"
   ]
  },
  {
   "cell_type": "code",
   "execution_count": 176,
   "metadata": {},
   "outputs": [],
   "source": [
    "loss  = (out-100)**2\n",
    "\n",
    "loss.mean().backward()"
   ]
  },
  {
   "cell_type": "code",
   "execution_count": 177,
   "metadata": {},
   "outputs": [
    {
     "data": {
      "text/plain": [
       "tensor([[587.2000, 587.2000, 587.2000,  ..., 587.2000, 587.2000, 587.2000],\n",
       "        [587.2000, 587.2000, 587.2000,  ..., 587.2000, 587.2000, 587.2000],\n",
       "        [587.2000, 587.2000, 587.2000,  ..., 587.2000, 587.2000, 587.2000],\n",
       "        ...,\n",
       "        [587.2000, 587.2000, 587.2000,  ..., 587.2000, 587.2000, 587.2000],\n",
       "        [587.2000, 587.2000, 587.2000,  ..., 587.2000, 587.2000, 587.2000],\n",
       "        [587.2000, 587.2000, 587.2000,  ..., 587.2000, 587.2000, 587.2000]])"
      ]
     },
     "execution_count": 177,
     "metadata": {},
     "output_type": "execute_result"
    }
   ],
   "source": [
    "param_list[0].grad\n"
   ]
  },
  {
   "cell_type": "code",
   "execution_count": 170,
   "metadata": {},
   "outputs": [],
   "source": [
    "testnn_obj.zero_grad()"
   ]
  },
  {
   "cell_type": "markdown",
   "metadata": {},
   "source": [
    "### This code can be found in deepregression.py and dataset.py so should not be used here so we only make changes to one code and don't get confused. Remove after checking with others that it is exact duplicate ###"
   ]
  },
  {
   "cell_type": "code",
   "execution_count": 24,
   "metadata": {},
   "outputs": [],
   "source": [
    "\n",
    "class Sddr_Single(nn.Module):\n",
    "    \n",
    "    def __init__(self, deep_models_dict, deep_shapes, struct_shapes, P):\n",
    "        \"\"\"\n",
    "        deep_models_dict: dictionary where key are names of deep models and values are objects that define the deep models\n",
    "        struct_shapes: number of structural features\n",
    "        P: numpy matrix for the smoothing regularization (with added zero matrix in the beginning for the linear part)\n",
    "        \n",
    "        \"\"\"\n",
    "        super(Sddr_Single, self).__init__()\n",
    "        self.P = P\n",
    "        self.deep_models_dict = deep_models_dict\n",
    "        \n",
    "        #register external neural networks\n",
    "        for key, value in deep_models_dict.items():\n",
    "            self.add_module(key,value)\n",
    "        \n",
    "        \n",
    "        self.structured_head = nn.Linear(struct_shapes,1, bias = False)\n",
    "        \n",
    "        if len(deep_models_dict) != 0:\n",
    "            output_size_of_deep_models  = sum([deep_shapes[key] for key in deep_shapes.keys()])\n",
    "            self.deep_head = nn.Linear(output_size_of_deep_models,1, bias = False)\n",
    "            self._deep_models_exist = True\n",
    "        else:\n",
    "            self._deep_models_exist = False\n",
    "        \n",
    "              \n",
    "        \n",
    "    def _orthog_layer(self, Q, Uhat):\n",
    "        \"\"\"\n",
    "        Utilde = Uhat - QQTUhat\n",
    "        \"\"\"\n",
    "        print(Q)\n",
    "        print(Q.T)\n",
    "        Projection_Matrix = Q @ Q.T\n",
    "        print(Projection_Matrix)\n",
    "        Utilde = Uhat - Projection_Matrix @ Uhat\n",
    "        \n",
    "        return Utilde\n",
    "    \n",
    "    \n",
    "    def forward(self, datadict):\n",
    "        \"\"\"Comment 6.8.2020 We checked that we can actually have a dictionary as an input here. that should work fine\"\"\"\n",
    "        \n",
    "        X = datadict[\"structured\"]\n",
    "        \n",
    "        if self._deep_models_exist:\n",
    "            Q, R = torch.qr(X)\n",
    "\n",
    "            Uhat_list = []\n",
    "            for key in self.deep_models_dict.keys(): #assume that the input for the NN has the name of the NN as key\n",
    "                net = self.deep_models_dict[key]\n",
    "                Uhat_list.append(net(datadict[key]))\n",
    "            \n",
    "            Uhat = torch.cat(Uhat_list, dim = 1) #concatenate the outputs of the deep NNs\n",
    "\n",
    "            Utilde = self._orthog_layer(Q, Uhat)\n",
    "            \n",
    "            deep_pred = self.deep_head(Utilde)\n",
    "        else:\n",
    "            deep_pred = 0\n",
    "        \n",
    "        structured_pred = self.structured_head(X)\n",
    "        \n",
    "        pred = structured_pred + deep_pred\n",
    "        \n",
    "        return pred\n",
    "    \n",
    "    def get_regularization(self):\n",
    "        P = torch.from_numpy(self.P).float() # should have shape struct_shapes x struct_shapes, numpy array\n",
    "        weights = self.structured_head.weight #should have shape 1 x struct_shapes\n",
    "        \n",
    "        \n",
    "        regularization = weights @ P @ weights.T\n",
    "        \n",
    "        return regularization\n",
    "        \n",
    "        \n",
    "        \n",
    "class Sddr(nn.Module):\n",
    "    \n",
    "    def __init__(self, family, regularization_params, parsed_formula_contents):\n",
    "        \"\"\"\n",
    "        family: string e.g. \"gaussian\", \"binomial\"...\n",
    "        regularization_params: smoothing parameters\n",
    "        parsed_formula_contents: dictionary with keys being parameters of the distribution, e.g. \"eta\" and \"scale\"\n",
    "        and values being dicts with keys deep_models_dict, struct_shapes and P (as used in Sddr_Single)\n",
    "        \"\"\"\n",
    "        super(Sddr, self).__init__()\n",
    "        self.family = family\n",
    "        self.regularization_params = regularization_params\n",
    "        self.parameter_names = parsed_formula_contents.keys\n",
    "        self.single_parameter_sddr_list = dict()\n",
    "        for key, value in parsed_formula_contents.items():\n",
    "            deep_models_dict = value[\"deep_models_dict\"]\n",
    "            deep_shapes = value[\"deep_shapes\"]\n",
    "            struct_shapes = value[\"struct_shapes\"]\n",
    "            P = value[\"P\"]\n",
    "            self.single_parameter_sddr_list[key] = Sddr_Single(deep_models_dict, deep_shapes, struct_shapes, P)\n",
    "            \n",
    "            #register the Sddr_Single network\n",
    "            self.add_module(key,self.single_parameter_sddr_list[key])\n",
    "                \n",
    "\n",
    "        #define distributional layer\n",
    "        if family == \"normal\":\n",
    "            self.distribution_layer_type = torch.distributions.normal.Normal\n",
    "        elif family == \"poisson\":\n",
    "            self.distribution_layer_type = torch.distributions.poisson.Poisson\n",
    "    \n",
    "    def _distribution_trafos(self,pred):\n",
    "        #applies the specific transformations to the prediction so they they correspond to the restrictions\n",
    "        #of the parameters\n",
    "        #this is family specific\n",
    "        pred_trafo = dict()\n",
    "        add_const = 1e-8\n",
    "        \n",
    "        family = self.family\n",
    "        if family == \"normal\":\n",
    "            pred_trafo[\"loc\"] = pred[\"loc\"]\n",
    "            pred_trafo[\"scale\"] = add_const + pred[\"scale\"].exp()\n",
    "        elif family == \"poisson\":\n",
    "            pred_trafo[\"rate\"] = add_const + pred[\"rate\"].exp()\n",
    "        \n",
    "        return pred_trafo\n",
    "    \n",
    "    def forward(self,meta_datadict):\n",
    "        \n",
    "        self.regul = 0\n",
    "        pred = dict()\n",
    "        for parameter_name, data_dict  in meta_datadict.items():\n",
    "            sddr_net = self.single_parameter_sddr_list[parameter_name]\n",
    "            pred[parameter_name] = sddr_net(data_dict)\n",
    "            self.regul += sddr_net.get_regularization()*self.regularization_params[parameter_name]\n",
    "            \n",
    "        predicted_parameters = self._distribution_trafos(pred)\n",
    "        \n",
    "        #define distributional layer (takes eta and scale)\n",
    "        self.distribution_layer = self.distribution_layer_type(**predicted_parameters)\n",
    "        \n",
    "        return self.distribution_layer\n",
    "    \n",
    "    def get_loss(self, Y):\n",
    "    \n",
    "#         regul = 0            # move to forward, or we need meta_datadict as input to get_loss\n",
    "#         for parameter_name, data_dict  in meta_datadict.items():\n",
    "#             sddr_net = self.single_parameter_sddr_list[parameter_name]\n",
    "#             regul += sddr_net.get_regularization()*self.regularization_params[parameter_name]\n",
    "        log_loss = -self.distribution_layer.log_prob(Y)\n",
    "        loss = log_loss + self.regul\n",
    "        \n",
    "        return loss\n",
    "        \n",
    "        \n"
   ]
  },
  {
   "cell_type": "code",
   "execution_count": 2,
   "metadata": {},
   "outputs": [],
   "source": [
    "class MyDataset(Dataset):\n",
    "    def __init__(self):\n",
    "        x_csv = pd.read_csv (r'./example_data/simple_gam/X.csv',sep=';',header=None)\n",
    "        y_csv = pd.read_csv (r'./example_data/simple_gam/Y.csv',header=None)\n",
    "        B_csv = pd.read_csv (r'./example_data/simple_gam/B.csv',sep=';',header=None)\n",
    "        \n",
    "        self.struct_data = torch.from_numpy(B_csv.values).float()\n",
    "        self.deep_data = torch.from_numpy(x_csv.values).float()\n",
    "        self.y = torch.from_numpy(y_csv.values).float()\n",
    "        \n",
    "    def __getitem__(self, index):\n",
    "        struct = self.struct_data[index]\n",
    "        deep = self.deep_data[index]\n",
    "        gt = self.y[index]\n",
    "        \n",
    "        datadict = {\"structured\": struct, \"dm1\": deep}\n",
    "        meta_datadict = dict()\n",
    "        meta_datadict[\"rate\"] = datadict\n",
    "        \n",
    "        return {'meta_datadict': meta_datadict, 'target': gt}        \n",
    "    \n",
    "    def __len__(self):\n",
    "        return len(self.deep_data)\n",
    "\n"
   ]
  },
  {
   "cell_type": "code",
   "execution_count": null,
   "metadata": {},
   "outputs": [],
   "source": []
  }
 ],
 "metadata": {
  "kernelspec": {
   "display_name": "Python 3",
   "language": "python",
   "name": "python3"
  },
  "language_info": {
   "codemirror_mode": {
    "name": "ipython",
    "version": 3
   },
   "file_extension": ".py",
   "mimetype": "text/x-python",
   "name": "python",
   "nbconvert_exporter": "python",
   "pygments_lexer": "ipython3",
   "version": "3.8.2"
  }
 },
 "nbformat": 4,
 "nbformat_minor": 4
}
