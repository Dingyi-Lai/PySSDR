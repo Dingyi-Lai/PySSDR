{
 "cells": [
  {
   "cell_type": "markdown",
   "metadata": {},
   "source": [
    "# PySDDR test run"
   ]
  },
  {
   "cell_type": "code",
   "execution_count": 1,
   "metadata": {},
   "outputs": [],
   "source": [
    "# import the sddr module\n",
    "from sddr import SDDR\n",
    "import torch.nn as nn\n",
    "from pandas import read_csv"
   ]
  },
  {
   "cell_type": "markdown",
   "metadata": {},
   "source": [
    "# First use case: A Simple GAM Poisson Distribution"
   ]
  },
  {
   "cell_type": "markdown",
   "metadata": {},
   "source": [
    "### The user defines the data, distribution and training parameters in the next cell\n",
    "\n",
    "Alternatively these parameters can be defined in a config file (for example see config.yaml)"
   ]
  },
  {
   "cell_type": "code",
   "execution_count": 5,
   "metadata": {},
   "outputs": [],
   "source": [
    "data_path = './example_data/simple_gam/X.csv'\n",
    "target_path = './example_data/simple_gam/Y.csv'\n",
    "\n",
    "data = read_csv(data_path,delimiter=';')\n",
    "target = read_csv(target_path)\n",
    "\n",
    "output_dir = './outputs'\n",
    "\n",
    "distribution  = 'Poisson'\n",
    "\n",
    "formulas = {'rate': '~1+spline(x1, bs=\"bs\",df=9)+spline(x2, bs=\"bs\",df=9)+d1(x1)+d2(x2)'}\n",
    "deep_models_dict = {\n",
    "'d1': {\n",
    "    'model': nn.Sequential(nn.Linear(1,15)),\n",
    "    'output_shape': 15},\n",
    "'d2': {\n",
    "    'model': nn.Sequential(nn.Linear(1,3),nn.ReLU(), nn.Linear(3,8)),\n",
    "    'output_shape': 8}\n",
    "}\n",
    "\n",
    "train_parameters = {\n",
    "'batch_size': 1000,\n",
    "'epochs': 2500,\n",
    "'regularization_params': {'rate': 1}\n",
    "}"
   ]
  },
  {
   "cell_type": "markdown",
   "metadata": {},
   "source": [
    "### The sddr instance is initialized with the parameters given by the user in the previous step"
   ]
  },
  {
   "cell_type": "code",
   "execution_count": 3,
   "metadata": {},
   "outputs": [],
   "source": [
    "sddr = SDDR(data=data,\n",
    "            target=target,\n",
    "            output_dir=output_dir,\n",
    "            distribution=distribution,\n",
    "            formulas=formulas,\n",
    "            deep_models_dict=deep_models_dict,\n",
    "            train_parameters=train_parameters)"
   ]
  },
  {
   "cell_type": "markdown",
   "metadata": {},
   "source": [
    "### The SDDR network is trained with the data defined above"
   ]
  },
  {
   "cell_type": "code",
   "execution_count": 4,
   "metadata": {},
   "outputs": [
    {
     "name": "stdout",
     "output_type": "stream",
     "text": [
      "Beginning training ...\n",
      "Train Epoch: 0 \t Loss: 164.710052\n",
      "Train Epoch: 100 \t Loss: 47.999393\n",
      "Train Epoch: 200 \t Loss: 46.596008\n",
      "Train Epoch: 300 \t Loss: 46.562881\n",
      "Train Epoch: 400 \t Loss: 46.554184\n",
      "Train Epoch: 500 \t Loss: 46.554878\n",
      "Train Epoch: 600 \t Loss: 46.578171\n",
      "Train Epoch: 700 \t Loss: 46.587818\n",
      "Train Epoch: 800 \t Loss: 46.579433\n",
      "Train Epoch: 900 \t Loss: 46.577568\n",
      "Train Epoch: 1000 \t Loss: 46.580635\n",
      "Train Epoch: 1100 \t Loss: 46.581558\n",
      "Train Epoch: 1200 \t Loss: 46.580368\n",
      "Train Epoch: 1300 \t Loss: 46.580189\n",
      "Train Epoch: 1400 \t Loss: 46.580616\n",
      "Train Epoch: 1500 \t Loss: 46.580669\n",
      "Train Epoch: 1600 \t Loss: 46.580498\n",
      "Train Epoch: 1700 \t Loss: 46.580471\n",
      "Train Epoch: 1800 \t Loss: 46.580578\n",
      "Train Epoch: 1900 \t Loss: 46.580559\n",
      "Train Epoch: 2000 \t Loss: 46.580536\n",
      "Train Epoch: 2100 \t Loss: 46.580532\n",
      "Train Epoch: 2200 \t Loss: 46.580555\n",
      "Train Epoch: 2300 \t Loss: 46.580521\n",
      "Train Epoch: 2400 \t Loss: 46.580540\n"
     ]
    }
   ],
   "source": [
    "sddr.train()"
   ]
  },
  {
   "cell_type": "markdown",
   "metadata": {},
   "source": [
    "### Visualize the partial effects"
   ]
  },
  {
   "cell_type": "code",
   "execution_count": 12,
   "metadata": {
    "scrolled": true
   },
   "outputs": [
    {
     "data": {
      "image/png": "[encoded data removed]",
      "text/plain": [
       "<Figure size 720x360 with 2 Axes>"
      ]
     },
     "metadata": {
      "needs_background": "light"
     },
     "output_type": "display_data"
    }
   ],
   "source": [
    "partial_effects = sddr.eval('rate')"
   ]
  },
  {
   "cell_type": "markdown",
   "metadata": {},
   "source": [
    "# Second use case: GAMLSS - Normal Distribution"
   ]
  },
  {
   "cell_type": "markdown",
   "metadata": {},
   "source": [
    "### The user defines the data, distribution and training parameters in the next cell\n",
    "\n",
    "Alternatively these parameters can be defined in a config file (for example see config.yaml)"
   ]
  },
  {
   "cell_type": "code",
   "execution_count": null,
   "metadata": {},
   "outputs": [],
   "source": [
    "# second example\n",
    "x_path = './example_data/gamlss/X.csv'\n",
    "y_path = './example_data/gamlss/Y.csv'\n",
    "\n",
    "data = read_csv(x_path,delimiter=';')\n",
    "target = read_csv(y_path)\n",
    "\n",
    "output_dir = './outputs'\n",
    "\n",
    "distribution  = 'Normal'\n",
    "\n",
    "formulas = {'loc': '~1+spline(x1, bs=\"bs\", df=9)+spline(x2, bs=\"bs\",df=9) + d1(x1)+d2(x2)',\n",
    "            'scale': '~1 + spline(x3, bs=\"bs\",df=9) + spline(x4, bs=\"bs\",df=9)'\n",
    "            }\n",
    "\n",
    "deep_models_dict = {\n",
    "'d1': {\n",
    "    'model': nn.Sequential(nn.Linear(1,15)),\n",
    "    'output_shape': 15},\n",
    "'d2': {\n",
    "    'model': nn.Sequential(nn.Linear(1,3),nn.ReLU(), nn.Linear(3,8)),\n",
    "    'output_shape': 8}\n",
    "}\n",
    "\n",
    "train_parameters = {\n",
    "'batch_size': 1000,\n",
    "'epochs': 2500,\n",
    "'regularization_params': {'loc':1, 'scale':1}\n",
    "}"
   ]
  },
  {
   "cell_type": "markdown",
   "metadata": {},
   "source": [
    "### The sddr instance is initialized with the parameters given by the user in the previous step"
   ]
  },
  {
   "cell_type": "code",
   "execution_count": null,
   "metadata": {},
   "outputs": [],
   "source": [
    "sddr = SDDR(data=data,\n",
    "            target=target,\n",
    "            output_dir=output_dir,\n",
    "            distribution=distribution,\n",
    "            formulas=formulas,\n",
    "            deep_models_dict=deep_models_dict,\n",
    "            train_parameters=train_parameters)"
   ]
  },
  {
   "cell_type": "markdown",
   "metadata": {},
   "source": [
    "### The SDDR network is trained with the data defined above"
   ]
  },
  {
   "cell_type": "code",
   "execution_count": null,
   "metadata": {},
   "outputs": [],
   "source": [
    "sddr.train()"
   ]
  },
  {
   "cell_type": "markdown",
   "metadata": {},
   "source": [
    "### Visualize the partial effects"
   ]
  },
  {
   "cell_type": "code",
   "execution_count": null,
   "metadata": {},
   "outputs": [],
   "source": [
    "partial_effects = sddr.eval('loc')"
   ]
  },
  {
   "cell_type": "code",
   "execution_count": null,
   "metadata": {},
   "outputs": [],
   "source": [
    "partial_effects = sddr.eval('scale')"
   ]
  }
 ],
 "metadata": {
  "kernelspec": {
   "display_name": "Python 3",
   "language": "python",
   "name": "python3"
  },
  "language_info": {
   "codemirror_mode": {
    "name": "ipython",
    "version": 3
   },
   "file_extension": ".py",
   "mimetype": "text/x-python",
   "name": "python",
   "nbconvert_exporter": "python",
   "pygments_lexer": "ipython3",
   "version": "3.8.2"
  }
 },
 "nbformat": 4,
 "nbformat_minor": 4
}
