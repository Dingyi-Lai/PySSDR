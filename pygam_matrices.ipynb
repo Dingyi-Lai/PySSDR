{
 "cells": [
  {
   "cell_type": "code",
   "execution_count": 1,
   "metadata": {},
   "outputs": [],
   "source": [
    "import numpy as np\n",
    "from pygam import s\n",
    "import pandas as pd\n",
    "import os"
   ]
  },
  {
   "cell_type": "code",
   "execution_count": 18,
   "metadata": {},
   "outputs": [],
   "source": [
    "dir_path = r'/Users/christina.bukas/Documents/AI_projects/code/reimplementations/example_data/simple_gam/'\n",
    "x_path = os.path.join(dir_path, 'X.csv')\n",
    "b_path = os.path.join(dir_path, 'B.csv')\n",
    "x = pd.read_csv (x_path, sep=';',header=None)\n",
    "b = pd.read_csv (b_path, sep=';',header=None)\n",
    "p_only = pd.read_csv (os.path.join(dir_path, 'P_only.csv'), sep=';',header=None)\n",
    "p_full = pd.read_csv (os.path.join(dir_path, 'full_P.csv'), sep=';',header=None)\n",
    "x = x.to_numpy()\n",
    "#b = b.to_numpy()\n",
    "#p_only = p_only.to_numpy()\n",
    "#p_full = p_full.to_numpy()"
   ]
  },
  {
   "cell_type": "code",
   "execution_count": 19,
   "metadata": {},
   "outputs": [],
   "source": [
    "xx = pd.DataFrame({\"a\": x[:,0], \"b\": x[:,1]})"
   ]
  },
  {
   "cell_type": "code",
   "execution_count": 39,
   "metadata": {},
   "outputs": [
    {
     "data": {
      "text/html": [
       "<div>\n",
       "<style scoped>\n",
       "    .dataframe tbody tr th:only-of-type {\n",
       "        vertical-align: middle;\n",
       "    }\n",
       "\n",
       "    .dataframe tbody tr th {\n",
       "        vertical-align: top;\n",
       "    }\n",
       "\n",
       "    .dataframe thead th {\n",
       "        text-align: right;\n",
       "    }\n",
       "</style>\n",
       "<table border=\"1\" class=\"dataframe\">\n",
       "  <thead>\n",
       "    <tr style=\"text-align: right;\">\n",
       "      <th></th>\n",
       "      <th>a</th>\n",
       "      <th>b</th>\n",
       "    </tr>\n",
       "  </thead>\n",
       "  <tbody>\n",
       "    <tr>\n",
       "      <th>0</th>\n",
       "      <td>0.159362</td>\n",
       "      <td>1.820832</td>\n",
       "    </tr>\n",
       "    <tr>\n",
       "      <th>1</th>\n",
       "      <td>-0.801953</td>\n",
       "      <td>-1.098624</td>\n",
       "    </tr>\n",
       "    <tr>\n",
       "      <th>2</th>\n",
       "      <td>0.898769</td>\n",
       "      <td>1.322290</td>\n",
       "    </tr>\n",
       "    <tr>\n",
       "      <th>3</th>\n",
       "      <td>-0.591773</td>\n",
       "      <td>0.217637</td>\n",
       "    </tr>\n",
       "    <tr>\n",
       "      <th>4</th>\n",
       "      <td>0.483823</td>\n",
       "      <td>1.811813</td>\n",
       "    </tr>\n",
       "    <tr>\n",
       "      <th>...</th>\n",
       "      <td>...</td>\n",
       "      <td>...</td>\n",
       "    </tr>\n",
       "    <tr>\n",
       "      <th>995</th>\n",
       "      <td>1.739414</td>\n",
       "      <td>-0.405674</td>\n",
       "    </tr>\n",
       "    <tr>\n",
       "      <th>996</th>\n",
       "      <td>0.731487</td>\n",
       "      <td>-1.305809</td>\n",
       "    </tr>\n",
       "    <tr>\n",
       "      <th>997</th>\n",
       "      <td>0.904296</td>\n",
       "      <td>1.463110</td>\n",
       "    </tr>\n",
       "    <tr>\n",
       "      <th>998</th>\n",
       "      <td>-1.894384</td>\n",
       "      <td>-0.295892</td>\n",
       "    </tr>\n",
       "    <tr>\n",
       "      <th>999</th>\n",
       "      <td>0.637137</td>\n",
       "      <td>1.348388</td>\n",
       "    </tr>\n",
       "  </tbody>\n",
       "</table>\n",
       "<p>1000 rows × 2 columns</p>\n",
       "</div>"
      ],
      "text/plain": [
       "            a         b\n",
       "0    0.159362  1.820832\n",
       "1   -0.801953 -1.098624\n",
       "2    0.898769  1.322290\n",
       "3   -0.591773  0.217637\n",
       "4    0.483823  1.811813\n",
       "..        ...       ...\n",
       "995  1.739414 -0.405674\n",
       "996  0.731487 -1.305809\n",
       "997  0.904296  1.463110\n",
       "998 -1.894384 -0.295892\n",
       "999  0.637137  1.348388\n",
       "\n",
       "[1000 rows x 2 columns]"
      ]
     },
     "execution_count": 39,
     "metadata": {},
     "output_type": "execute_result"
    }
   ],
   "source": [
    "fe =['a', 'b']\n",
    "xx[fe]"
   ]
  },
  {
   "cell_type": "code",
   "execution_count": 34,
   "metadata": {},
   "outputs": [],
   "source": [
    "from patsy import dmatrix\n",
    "formula = '~1+s(a, df=9)+s(b, df=9)'\n",
    "matrix = dmatrix(formula, xx, return_type='dataframe')"
   ]
  },
  {
   "cell_type": "code",
   "execution_count": 35,
   "metadata": {},
   "outputs": [
    {
     "data": {
      "text/plain": [
       "Intercept                               1.000000\n",
       "cr(a, df=9, constraints=\"center\")[0]   -0.362168\n",
       "cr(a, df=9, constraints=\"center\")[1]   -0.360804\n",
       "cr(a, df=9, constraints=\"center\")[2]   -0.340138\n",
       "cr(a, df=9, constraints=\"center\")[3]   -0.319788\n",
       "cr(a, df=9, constraints=\"center\")[4]   -0.364295\n",
       "cr(a, df=9, constraints=\"center\")[5]   -0.330494\n",
       "cr(a, df=9, constraints=\"center\")[6]   -0.309615\n",
       "cr(a, df=9, constraints=\"center\")[7]   -0.407328\n",
       "cr(a, df=9, constraints=\"center\")[8]   -0.127260\n",
       "cr(b, df=9, constraints=\"center\")[0]   -0.383915\n",
       "cr(b, df=9, constraints=\"center\")[1]   -0.375783\n",
       "cr(b, df=9, constraints=\"center\")[2]   -0.333911\n",
       "cr(b, df=9, constraints=\"center\")[3]   -0.351432\n",
       "cr(b, df=9, constraints=\"center\")[4]   -0.338370\n",
       "cr(b, df=9, constraints=\"center\")[5]   -0.334569\n",
       "cr(b, df=9, constraints=\"center\")[6]   -0.324953\n",
       "cr(b, df=9, constraints=\"center\")[7]   -0.382976\n",
       "cr(b, df=9, constraints=\"center\")[8]   -0.138831\n",
       "dtype: float64"
      ]
     },
     "execution_count": 35,
     "metadata": {},
     "output_type": "execute_result"
    }
   ],
   "source": [
    "matrix.min()\n"
   ]
  },
  {
   "cell_type": "code",
   "execution_count": 36,
   "metadata": {},
   "outputs": [],
   "source": [
    "\n",
    "pd.DataFrame(matrix).to_csv(\"B_patsy3.csv\", sep=';',header=None)"
   ]
  },
  {
   "cell_type": "code",
   "execution_count": 21,
   "metadata": {},
   "outputs": [
    {
     "name": "stdout",
     "output_type": "stream",
     "text": [
      "(19, 19) (19, 19)\n",
      "(1000, 2)\n",
      "(1000, 19)\n"
     ]
    }
   ],
   "source": [
    "print(p_only.shape, p_full.shape)\n",
    "print(x.shape)\n",
    "print(b.shape)"
   ]
  },
  {
   "cell_type": "code",
   "execution_count": 31,
   "metadata": {},
   "outputs": [],
   "source": [
    "from pygam import LinearGAM, l\n",
    "gam = LinearGAM(s(0) + l(1))"
   ]
  },
  {
   "cell_type": "code",
   "execution_count": 36,
   "metadata": {},
   "outputs": [
    {
     "data": {
      "text/plain": [
       "{'scale': None,\n",
       " 'max_iter': 100,\n",
       " 'tol': 0.0001,\n",
       " 'distribution': NormalDist(),\n",
       " 'link': 'identity',\n",
       " 'callbacks': ['deviance', 'diffs'],\n",
       " 'verbose': False,\n",
       " 'terms': s(0) + l(1),\n",
       " 'fit_intercept': True,\n",
       " '_constraint_lam': 1000000000.0,\n",
       " '_constraint_l2': 0.001,\n",
       " '_constraint_l2_max': 0.1,\n",
       " '_term_location': 'terms',\n",
       " '_name': None,\n",
       " '_line_width': 70,\n",
       " '_line_offset': 3,\n",
       " '_exclude': ['distribution', 'link'],\n",
       " '_include': []}"
      ]
     },
     "execution_count": 36,
     "metadata": {},
     "output_type": "execute_result"
    }
   ],
   "source": [
    "gam.get_params(deep=True)"
   ]
  },
  {
   "cell_type": "code",
   "execution_count": 52,
   "metadata": {},
   "outputs": [],
   "source": [
    "from statsmodels.gam.api import GLMGam, BSplines"
   ]
  },
  {
   "cell_type": "code",
   "execution_count": 82,
   "metadata": {},
   "outputs": [],
   "source": [
    "s = BSplines(x, df=[12, 10], degree=[3, 3])"
   ]
  },
  {
   "cell_type": "code",
   "execution_count": 83,
   "metadata": {},
   "outputs": [
    {
     "data": {
      "text/plain": [
       "<statsmodels.gam.smooth_basis.BSplines at 0x7fd12b1b5790>"
      ]
     },
     "execution_count": 83,
     "metadata": {},
     "output_type": "execute_result"
    }
   ],
   "source": [
    "s"
   ]
  },
  {
   "cell_type": "code",
   "execution_count": 76,
   "metadata": {},
   "outputs": [],
   "source": [
    "num_splines = 9\n",
    "\n",
    "spline1 = s(0, n_splines=num_splines) #, lam=0.2\n",
    "spline2 = s(1, n_splines=num_splines)\n",
    "\n",
    "spline1.compile(x)\n",
    "spline2.compile(x)\n",
    "m1 = spline1.build_columns(x)\n",
    "m2 = spline2.build_columns(x)\n",
    "m1 = m1.toarray()\n",
    "m2 = m2.toarray()\n"
   ]
  },
  {
   "cell_type": "code",
   "execution_count": 80,
   "metadata": {},
   "outputs": [
    {
     "data": {
      "text/plain": [
       "{'basis': 'ps',\n",
       " 'n_splines': 9,\n",
       " 'spline_order': 3,\n",
       " 'by': None,\n",
       " 'feature': 0,\n",
       " 'lam': [0.6],\n",
       " 'dtype': 'numerical',\n",
       " 'penalties': ['auto'],\n",
       " 'constraints': [None],\n",
       " 'verbose': False,\n",
       " 'term_type': 'spline_term'}"
      ]
     },
     "execution_count": 80,
     "metadata": {},
     "output_type": "execute_result"
    }
   ],
   "source": [
    "spline1.info"
   ]
  },
  {
   "cell_type": "code",
   "execution_count": 23,
   "metadata": {},
   "outputs": [
    {
     "ename": "ValueError",
     "evalue": "all the input arrays must have same number of dimensions",
     "output_type": "error",
     "traceback": [
      "\u001b[0;31m---------------------------------------------------------------------------\u001b[0m",
      "\u001b[0;31mValueError\u001b[0m                                Traceback (most recent call last)",
      "\u001b[0;32m<ipython-input-23-eb32f57a9f44>\u001b[0m in \u001b[0;36m<module>\u001b[0;34m\u001b[0m\n\u001b[1;32m      1\u001b[0m \u001b[0minter\u001b[0m \u001b[0;34m=\u001b[0m \u001b[0mnp\u001b[0m\u001b[0;34m.\u001b[0m\u001b[0mones\u001b[0m\u001b[0;34m(\u001b[0m\u001b[0;34m(\u001b[0m\u001b[0mx\u001b[0m\u001b[0;34m.\u001b[0m\u001b[0mshape\u001b[0m\u001b[0;34m[\u001b[0m\u001b[0;36m0\u001b[0m\u001b[0;34m]\u001b[0m\u001b[0;34m,\u001b[0m\u001b[0;36m1\u001b[0m\u001b[0;34m)\u001b[0m\u001b[0;34m)\u001b[0m\u001b[0;34m\u001b[0m\u001b[0;34m\u001b[0m\u001b[0m\n\u001b[1;32m      2\u001b[0m \u001b[0;34m\u001b[0m\u001b[0m\n\u001b[0;32m----> 3\u001b[0;31m \u001b[0mmatrix\u001b[0m \u001b[0;34m=\u001b[0m \u001b[0mnp\u001b[0m\u001b[0;34m.\u001b[0m\u001b[0mconcatenate\u001b[0m\u001b[0;34m(\u001b[0m\u001b[0;34m[\u001b[0m\u001b[0minter\u001b[0m\u001b[0;34m,\u001b[0m \u001b[0mm1_x\u001b[0m\u001b[0;34m,\u001b[0m \u001b[0mm2_x\u001b[0m\u001b[0;34m]\u001b[0m\u001b[0;34m,\u001b[0m \u001b[0maxis\u001b[0m\u001b[0;34m=\u001b[0m\u001b[0;36m1\u001b[0m\u001b[0;34m)\u001b[0m \u001b[0;31m# size 1000x19\u001b[0m\u001b[0;34m\u001b[0m\u001b[0;34m\u001b[0m\u001b[0m\n\u001b[0m\u001b[1;32m      4\u001b[0m \u001b[0;31m# x size of 1000x2\u001b[0m\u001b[0;34m\u001b[0m\u001b[0;34m\u001b[0m\u001b[0;34m\u001b[0m\u001b[0m\n",
      "\u001b[0;31mValueError\u001b[0m: all the input arrays must have same number of dimensions"
     ]
    }
   ],
   "source": [
    "inter = np.ones((x.shape[0],1))\n",
    "\n",
    "matrix = np.concatenate([inter, m1, m2], axis=1) # size 1000x19\n",
    "# x size of 1000x2"
   ]
  },
  {
   "cell_type": "code",
   "execution_count": 48,
   "metadata": {},
   "outputs": [],
   "source": [
    "p1 = spline1.build_penalties()\n",
    "p1 = p1.toarray()\n",
    "\n",
    "p2 = spline2.build_penalties()\n",
    "p2 = p2.toarray()\n",
    "\n",
    "p_shape = 1+2*num_splines\n",
    "p = np.zeros((p_shape, p_shape))\n",
    "p[1:1+num_splines, 1:1+num_splines] = p1\n",
    "p[-num_splines:, -num_splines:] = p2"
   ]
  },
  {
   "cell_type": "code",
   "execution_count": 53,
   "metadata": {},
   "outputs": [
    {
     "data": {
      "text/plain": [
       "array([[ 0. ,  0. ,  0. ,  0. ,  0. ,  0. ,  0. ,  0. ,  0. ,  0. ,  0. ,\n",
       "         0. ,  0. ,  0. ,  0. ,  0. ,  0. ,  0. ,  0. ],\n",
       "       [ 0. ,  0.6, -1.2,  0.6,  0. ,  0. ,  0. ,  0. ,  0. ,  0. ,  0. ,\n",
       "         0. ,  0. ,  0. ,  0. ,  0. ,  0. ,  0. ,  0. ],\n",
       "       [ 0. , -1.2,  3. , -2.4,  0.6,  0. ,  0. ,  0. ,  0. ,  0. ,  0. ,\n",
       "         0. ,  0. ,  0. ,  0. ,  0. ,  0. ,  0. ,  0. ],\n",
       "       [ 0. ,  0.6, -2.4,  3.6, -2.4,  0.6,  0. ,  0. ,  0. ,  0. ,  0. ,\n",
       "         0. ,  0. ,  0. ,  0. ,  0. ,  0. ,  0. ,  0. ],\n",
       "       [ 0. ,  0. ,  0.6, -2.4,  3.6, -2.4,  0.6,  0. ,  0. ,  0. ,  0. ,\n",
       "         0. ,  0. ,  0. ,  0. ,  0. ,  0. ,  0. ,  0. ],\n",
       "       [ 0. ,  0. ,  0. ,  0.6, -2.4,  3.6, -2.4,  0.6,  0. ,  0. ,  0. ,\n",
       "         0. ,  0. ,  0. ,  0. ,  0. ,  0. ,  0. ,  0. ],\n",
       "       [ 0. ,  0. ,  0. ,  0. ,  0.6, -2.4,  3.6, -2.4,  0.6,  0. ,  0. ,\n",
       "         0. ,  0. ,  0. ,  0. ,  0. ,  0. ,  0. ,  0. ],\n",
       "       [ 0. ,  0. ,  0. ,  0. ,  0. ,  0.6, -2.4,  3.6, -2.4,  0.6,  0. ,\n",
       "         0. ,  0. ,  0. ,  0. ,  0. ,  0. ,  0. ,  0. ],\n",
       "       [ 0. ,  0. ,  0. ,  0. ,  0. ,  0. ,  0.6, -2.4,  3. , -1.2,  0. ,\n",
       "         0. ,  0. ,  0. ,  0. ,  0. ,  0. ,  0. ,  0. ],\n",
       "       [ 0. ,  0. ,  0. ,  0. ,  0. ,  0. ,  0. ,  0.6, -1.2,  0.6,  0. ,\n",
       "         0. ,  0. ,  0. ,  0. ,  0. ,  0. ,  0. ,  0. ],\n",
       "       [ 0. ,  0. ,  0. ,  0. ,  0. ,  0. ,  0. ,  0. ,  0. ,  0. ,  0.6,\n",
       "        -1.2,  0.6,  0. ,  0. ,  0. ,  0. ,  0. ,  0. ],\n",
       "       [ 0. ,  0. ,  0. ,  0. ,  0. ,  0. ,  0. ,  0. ,  0. ,  0. , -1.2,\n",
       "         3. , -2.4,  0.6,  0. ,  0. ,  0. ,  0. ,  0. ],\n",
       "       [ 0. ,  0. ,  0. ,  0. ,  0. ,  0. ,  0. ,  0. ,  0. ,  0. ,  0.6,\n",
       "        -2.4,  3.6, -2.4,  0.6,  0. ,  0. ,  0. ,  0. ],\n",
       "       [ 0. ,  0. ,  0. ,  0. ,  0. ,  0. ,  0. ,  0. ,  0. ,  0. ,  0. ,\n",
       "         0.6, -2.4,  3.6, -2.4,  0.6,  0. ,  0. ,  0. ],\n",
       "       [ 0. ,  0. ,  0. ,  0. ,  0. ,  0. ,  0. ,  0. ,  0. ,  0. ,  0. ,\n",
       "         0. ,  0.6, -2.4,  3.6, -2.4,  0.6,  0. ,  0. ],\n",
       "       [ 0. ,  0. ,  0. ,  0. ,  0. ,  0. ,  0. ,  0. ,  0. ,  0. ,  0. ,\n",
       "         0. ,  0. ,  0.6, -2.4,  3.6, -2.4,  0.6,  0. ],\n",
       "       [ 0. ,  0. ,  0. ,  0. ,  0. ,  0. ,  0. ,  0. ,  0. ,  0. ,  0. ,\n",
       "         0. ,  0. ,  0. ,  0.6, -2.4,  3.6, -2.4,  0.6],\n",
       "       [ 0. ,  0. ,  0. ,  0. ,  0. ,  0. ,  0. ,  0. ,  0. ,  0. ,  0. ,\n",
       "         0. ,  0. ,  0. ,  0. ,  0.6, -2.4,  3. , -1.2],\n",
       "       [ 0. ,  0. ,  0. ,  0. ,  0. ,  0. ,  0. ,  0. ,  0. ,  0. ,  0. ,\n",
       "         0. ,  0. ,  0. ,  0. ,  0. ,  0.6, -1.2,  0.6]])"
      ]
     },
     "execution_count": 53,
     "metadata": {},
     "output_type": "execute_result"
    }
   ],
   "source": [
    "p"
   ]
  },
  {
   "cell_type": "code",
   "execution_count": 61,
   "metadata": {},
   "outputs": [],
   "source": [
    "import pandas as pd \n",
    "pd.DataFrame(matrix).to_csv(\"B_gen.csv\", sep=';',header=None)\n",
    "pd.DataFrame(p).to_csv(\"P_gen.csv\", sep=';',header=None)"
   ]
  },
  {
   "cell_type": "code",
   "execution_count": 4,
   "metadata": {},
   "outputs": [],
   "source": [
    "import pandas as pd \n",
    "\n",
    "p_path1 = r'P_gen.csv'\n",
    "b_path1 = r'B_gen.csv'\n",
    "p_path2 = r'../example_data/simple_gam/full_P.csv'\n",
    "b_path2 = r'../example_data/simple_gam/B.csv'\n",
    "\n",
    "p1 = pd.read_csv (p_path1,sep=';',header=None).values\n",
    "p1 = p1[:,1:]\n",
    "p2 = pd.read_csv(p_path2,sep=';',header=None).values\n",
    "b1 = pd.read_csv(b_path1,sep=';',header=None).values\n",
    "b2 = pd.read_csv(b_path2,sep=';',header=None).values\n",
    "b1= b1[:,1:]"
   ]
  },
  {
   "cell_type": "code",
   "execution_count": 5,
   "metadata": {},
   "outputs": [
    {
     "data": {
      "text/plain": [
       "(19, 19)"
      ]
     },
     "execution_count": 5,
     "metadata": {},
     "output_type": "execute_result"
    }
   ],
   "source": [
    "p1.shape"
   ]
  },
  {
   "cell_type": "code",
   "execution_count": 6,
   "metadata": {},
   "outputs": [
    {
     "data": {
      "text/plain": [
       "(19, 19)"
      ]
     },
     "execution_count": 6,
     "metadata": {},
     "output_type": "execute_result"
    }
   ],
   "source": [
    "p2.shape"
   ]
  },
  {
   "cell_type": "code",
   "execution_count": 7,
   "metadata": {},
   "outputs": [
    {
     "data": {
      "text/plain": [
       "(1000, 19)"
      ]
     },
     "execution_count": 7,
     "metadata": {},
     "output_type": "execute_result"
    }
   ],
   "source": [
    "b1.shape"
   ]
  },
  {
   "cell_type": "code",
   "execution_count": 8,
   "metadata": {},
   "outputs": [
    {
     "data": {
      "text/plain": [
       "(1000, 19)"
      ]
     },
     "execution_count": 8,
     "metadata": {},
     "output_type": "execute_result"
    }
   ],
   "source": [
    "b2.shape"
   ]
  },
  {
   "cell_type": "code",
   "execution_count": null,
   "metadata": {},
   "outputs": [],
   "source": []
  },
  {
   "cell_type": "code",
   "execution_count": null,
   "metadata": {},
   "outputs": [],
   "source": []
  }
 ],
 "metadata": {
  "kernelspec": {
   "display_name": "Python 3",
   "language": "python",
   "name": "python3"
  },
  "language_info": {
   "codemirror_mode": {
    "name": "ipython",
    "version": 3
   },
   "file_extension": ".py",
   "mimetype": "text/x-python",
   "name": "python",
   "nbconvert_exporter": "python",
   "pygments_lexer": "ipython3",
   "version": "3.8.2"
  }
 },
 "nbformat": 4,
 "nbformat_minor": 4
}
