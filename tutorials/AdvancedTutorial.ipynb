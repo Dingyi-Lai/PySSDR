{
 "cells": [
  {
   "cell_type": "markdown",
   "metadata": {},
   "source": [
    "# PySDDR: An Advanced Tutorial\n",
    "\n",
    "In the beginner's guide only tabular data was used as input to the PySDDR framework. In this advanced tutorial we show the mixed effects of structured and unstructured data. Currently, the framework only supports images as unstructured data.\n",
    "\n",
    "We will use the MNIST dataset as a source for the unstructured data and generate additional tabular features corresponding to those.\n",
    "\n",
    "The aim of training is for the model to be able to output a latent effect, representing the number depicted in the MNIST image.\n",
    "\n",
    "We start by importing the sddr module and other required libraries"
   ]
  },
  {
   "cell_type": "code",
   "execution_count": 1,
   "metadata": {},
   "outputs": [],
   "source": [
    "# import the sddr module\n",
    "from sddr import Sddr\n",
    "\n",
    "import torch\n",
    "import torch.nn as nn\n",
    "import torch.optim as optim\n",
    "import pandas as pd\n",
    "import numpy as np\n",
    "import matplotlib.pyplot as plt\n",
    "import seaborn as sns\n",
    "\n",
    "\n",
    "#set seeds for reproducibility\n",
    "torch.manual_seed(1)\n",
    "np.random.seed(1)"
   ]
  },
  {
   "cell_type": "markdown",
   "metadata": {},
   "source": [
    "### User inputs \n",
    "\n",
    "First the user defines the data to be used. The data is loaded and if it does not already exist a column needs to be added to the tabular data describing the unstructured data - structured data correspondence. In the example below we add a column where each item includes the name of the image to which the current row of tabular data corresponds."
   ]
  },
  {
   "cell_type": "code",
   "execution_count": 5,
   "metadata": {},
   "outputs": [],
   "source": [
    "data_path = '../data/mnist_data/tab.csv'\n",
    "\n",
    "data = pd.read_csv(data_path,delimiter=',')\n",
    "\n",
    "# append a column for the numbers: each data point contains a file name of the corresponding image\n",
    "for i in data.index:\n",
    "    data.loc[i,'numbers'] = f'img_{i}.jpg'"
   ]
  },
  {
   "cell_type": "markdown",
   "metadata": {},
   "source": [
    "Next the distribution, formulas and training parameters are defined. The size of each image is ```28x28``` so our neural network has a layer which flattens the input, which is followed by a linear layer of input size ```28x28``` and an output size of ```128```. Finally, this is followed by a ```ReLU``` for the activation.\n",
    "\n",
    "Here the structured data is not pre-loaded as it would be typically too large to load in one step. Therefore the path to the directory in which it is stored is provided along with the data type (for now only 'images' supported). The images are then loaded in batches using PyTorch's dataloader. Note that here again the key given in the ```unstructured_data``` dictionary must match the name it is given in the formula, in this case ```'numbers'```. Similarly the keys of the ```deep_models_dict``` must also match the names in the formula, in this case ```'dnn'```"
   ]
  },
  {
   "cell_type": "code",
   "execution_count": 2,
   "metadata": {
    "scrolled": false
   },
   "outputs": [],
   "source": [
    "# define distribution and the formula for the distibutional parameter\n",
    "distribution  = 'Normal'\n",
    "\n",
    "formulas = {'loc': '~ -1 + spline(x1, bs=\"bs\", df=10) + x2 + dnn(numbers) + spline(x3, bs=\"bs\", df=10)',\n",
    "            'scale': '~1'\n",
    "            }\n",
    "\n",
    "\n",
    "# define the deep neural networks' architectures and output shapes used in the above formula\n",
    "deep_models_dict = {\n",
    "'dnn': {\n",
    "    'model': nn.Sequential(nn.Flatten(1, -1),\n",
    "                           nn.Linear(28*28,128),\n",
    "                           nn.ReLU()),\n",
    "    'output_shape': 128},\n",
    "}\n",
    "\n",
    "# define your training hyperparameters\n",
    "train_parameters = {\n",
    "    'batch_size': 8000,\n",
    "    'epochs': 1000,\n",
    "    'degrees_of_freedom': {'loc':9.6, 'scale':9.6},\n",
    "    'optimizer' : optim.Adam\n",
    "}\n",
    "\n",
    "\n",
    "# provide the location and datatype of the unstructured data\n",
    "unstructured_data = {\n",
    "  'numbers' : {\n",
    "    'path' : '../data/mnist_data/mnist_images',\n",
    "    'datatype' : 'image'\n",
    "  }\n",
    "}\n",
    "\n",
    "# define output directory\n",
    "output_dir = './outputs'\n"
   ]
  },
  {
   "cell_type": "markdown",
   "metadata": {},
   "source": [
    "### Initialization\n",
    "\n",
    "The sddr instance is initialized with the parameters given by the user in the previous step:"
   ]
  },
  {
   "cell_type": "code",
   "execution_count": 3,
   "metadata": {},
   "outputs": [
    {
     "name": "stdout",
     "output_type": "stream",
     "text": [
      "Using device:  cpu\n"
     ]
    }
   ],
   "source": [
    "sddr = Sddr(output_dir=output_dir,\n",
    "            distribution=distribution,\n",
    "            formulas=formulas,\n",
    "            deep_models_dict=deep_models_dict,\n",
    "            train_parameters=train_parameters,\n",
    "            )"
   ]
  },
  {
   "cell_type": "markdown",
   "metadata": {},
   "source": [
    "### Training\n",
    "\n",
    "The sddr network is trained with the data defined above and the loss curve is plotted."
   ]
  },
  {
   "cell_type": "code",
   "execution_count": 6,
   "metadata": {},
   "outputs": [
    {
     "name": "stdout",
     "output_type": "stream",
     "text": [
      "Beginning training ...\n",
      "Train Epoch: 0 \t Loss: 131.097122\n",
      "Train Epoch: 100 \t Loss: 101.242378\n",
      "Train Epoch: 200 \t Loss: 76.286522\n",
      "Train Epoch: 300 \t Loss: 57.460751\n",
      "Train Epoch: 400 \t Loss: 44.054817\n",
      "Train Epoch: 500 \t Loss: 34.513153\n",
      "Train Epoch: 600 \t Loss: 27.706999\n",
      "Train Epoch: 700 \t Loss: 22.680731\n",
      "Train Epoch: 800 \t Loss: 18.903719\n",
      "Train Epoch: 900 \t Loss: 16.009527\n"
     ]
    },
    {
     "data": {
      "image/png": "[encoded data removed]",
      "text/plain": [
       "<Figure size 432x288 with 1 Axes>"
      ]
     },
     "metadata": {
      "needs_background": "light"
     },
     "output_type": "display_data"
    }
   ],
   "source": [
    "sddr.train(structured_data=data,\n",
    "           target=\"y_gen\",\n",
    "           unstructured_data = unstructured_data,\n",
    "           plot=True)"
   ]
  },
  {
   "cell_type": "markdown",
   "metadata": {},
   "source": [
    "### Evaluation - Visualizing the partial effects\n",
    "\n",
    "In this case the data is assumed to follow a normal distribution, in which case two distributional parameters, loc and scale, need to be estimated. Below we plot the partial effects of each\n",
    "\n",
    "Remember the partial effects are computed by: partial effect = smooth_features * coefs (weights)\n",
    "In other words the smoothing terms are multiplied with the weights of the Structured Head. We use the partial effects to interpret whether our model has learned correctly."
   ]
  },
  {
   "cell_type": "code",
   "execution_count": 7,
   "metadata": {},
   "outputs": [
    {
     "data": {
      "image/png": "[encoded data removed]",
      "text/plain": [
       "<Figure size 720x360 with 2 Axes>"
      ]
     },
     "metadata": {
      "needs_background": "light"
     },
     "output_type": "display_data"
    }
   ],
   "source": [
    "partial_effects_loc = sddr.eval('loc',plot=True)"
   ]
  },
  {
   "cell_type": "code",
   "execution_count": 8,
   "metadata": {},
   "outputs": [
    {
     "name": "stdout",
     "output_type": "stream",
     "text": [
      "Not possible to print any partial effects\n"
     ]
    },
    {
     "data": {
      "text/plain": [
       "<Figure size 720x360 with 0 Axes>"
      ]
     },
     "metadata": {},
     "output_type": "display_data"
    }
   ],
   "source": [
    "partial_effects_scale = sddr.eval('scale',plot=True)"
   ]
  },
  {
   "cell_type": "markdown",
   "metadata": {},
   "source": [
    "As we can see the distributional parameter loc has two parial effects, one sinusoidal and one quadratic. The parameter scale expectedly has no partial effect since the formula only includes an intercept.\n",
    "\n",
    "Next we retrieve our ground truth data and compare it with the model's estimation"
   ]
  },
  {
   "cell_type": "code",
   "execution_count": 10,
   "metadata": {},
   "outputs": [
    {
     "name": "stdout",
     "output_type": "stream",
     "text": [
      "Predicted variance for first sample: tensor([1.3958])\n"
     ]
    },
    {
     "data": {
      "image/png": "[encoded data removed]",
      "text/plain": [
       "<Figure size 432x288 with 1 Axes>"
      ]
     },
     "metadata": {
      "needs_background": "light"
     },
     "output_type": "display_data"
    }
   ],
   "source": [
    "# compare prediction of neural network with ground truth\n",
    "data_pred = data.loc[:,:]\n",
    "ground_truth  = data.loc[:,'y_gen']\n",
    "\n",
    "# predict returns partial effects and a distributional layer that gives statistical information about the prediction\n",
    "distribution_layer, partial_effect = sddr.predict(data_pred,\n",
    "                                                  clipping=True, \n",
    "                                                  plot=False, \n",
    "                                                  unstructured_data = unstructured_data)\n",
    "# retrieve the mean and  variance of the distributional layer\n",
    "predicted_mean = distribution_layer.loc[:,:].T\n",
    "predicted_variance = distribution_layer.scale[0]\n",
    "\n",
    "# and plot the result\n",
    "plt.scatter(ground_truth, predicted_mean)\n",
    "print(f\"Predicted variance for first sample: {predicted_variance}\")"
   ]
  },
  {
   "cell_type": "markdown",
   "metadata": {},
   "source": [
    "The comparison shows that for most samples the predicted and true values are directly propotional.\n",
    "\n",
    "Next we want to check if the model learned the correct correspondence of images and numbers"
   ]
  },
  {
   "cell_type": "code",
   "execution_count": 11,
   "metadata": {},
   "outputs": [
    {
     "data": {
      "text/plain": [
       "<AxesSubplot:xlabel='y_true', ylabel='predicted_number'>"
      ]
     },
     "execution_count": 11,
     "metadata": {},
     "output_type": "execute_result"
    },
    {
     "data": {
      "image/png": "[encoded data removed]",
      "text/plain": [
       "<Figure size 432x288 with 1 Axes>"
      ]
     },
     "metadata": {
      "needs_background": "light"
     },
     "output_type": "display_data"
    }
   ],
   "source": [
    "# we create a copy of our original structured data where we set all inputs but the images to be zero\n",
    "data_pred_copy = data.copy()\n",
    "data_pred_copy.loc[:,'x1'] = 0\n",
    "data_pred_copy.loc[:,'x2'] = 0\n",
    "data_pred_copy.loc[:,'x3'] = 0\n",
    "\n",
    "# and make a prediction using only the images\n",
    "distribution_layer, partial_effect = sddr.predict(data_pred_copy,\n",
    "                                                  clipping=True, \n",
    "                                                  plot=False, \n",
    "                                                  unstructured_data = unstructured_data)\n",
    "# add the predicted mean value to our tabular data\n",
    "data_pred_copy['predicted_number'] = distribution_layer.loc[:,:].numpy().flatten()\n",
    "\n",
    "# and compare the true number on the images with the predicted number\n",
    "sns.boxplot(x=\"y_true\", y=\"predicted_number\", data=data_pred_copy)\n"
   ]
  },
  {
   "cell_type": "markdown",
   "metadata": {},
   "source": [
    "Observing the boxplot figure we see that as the true values, i.e. numbers depicted on images, are increasing, so too are the medians of the predicted distributions. Therefore the partial effect of the neural network is directly correlated with the number depicted in the MNIST images, proving that our neural network, though simple, has learned from the unstructured data."
   ]
  },
  {
   "cell_type": "code",
   "execution_count": null,
   "metadata": {},
   "outputs": [],
   "source": []
  }
 ],
 "metadata": {
  "kernelspec": {
   "display_name": "Python 3",
   "language": "python",
   "name": "python3"
  },
  "language_info": {
   "codemirror_mode": {
    "name": "ipython",
    "version": 3
   },
   "file_extension": ".py",
   "mimetype": "text/x-python",
   "name": "python",
   "nbconvert_exporter": "python",
   "pygments_lexer": "ipython3",
   "version": "3.7.9"
  }
 },
 "nbformat": 4,
 "nbformat_minor": 4
}
