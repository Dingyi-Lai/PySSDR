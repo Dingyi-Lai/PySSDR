{
 "cells": [
  {
   "cell_type": "markdown",
   "metadata": {},
   "source": [
    "# PySDDR Advanced Tutorial\n",
    "\n",
    "Advanced tutorial that shows mixed effects of images and tabular features.\n",
    "\n",
    "We will use the MNIST data set as a source for the image part and generate additional tabular feature.\n",
    "We won’t tell the model the number of the MNIST picture, but instead feed the original image into to check whether the model can learn a latent effect representing the number."
   ]
  },
  {
   "cell_type": "code",
   "execution_count": 1,
   "metadata": {},
   "outputs": [],
   "source": [
    "# import the sddr module\n",
    "from sddr import Sddr\n",
    "import torch.nn as nn\n",
    "import pandas as pd\n",
    "import torch.optim as optim\n",
    "import numpy as np\n",
    "import torch\n",
    "\n",
    "\n",
    "import matplotlib.pyplot as plt\n",
    "import seaborn as sns\n",
    "\n",
    "\n",
    "#set seeds for reproducibility\n",
    "torch.manual_seed(1)\n",
    "np.random.seed(1)"
   ]
  },
  {
   "cell_type": "markdown",
   "metadata": {},
   "source": [
    "## Preparation step"
   ]
  },
  {
   "cell_type": "markdown",
   "metadata": {},
   "source": [
    "### load data"
   ]
  },
  {
   "cell_type": "code",
   "execution_count": 2,
   "metadata": {},
   "outputs": [],
   "source": [
    "data_path = '../data/mnist_data/tab.csv'\n",
    "\n",
    "data = pd.read_csv(data_path,delimiter=',')\n",
    "\n",
    "# append a column for the numbers: each data point contains a file name of the corresponding image\n",
    "for i in data.index:\n",
    "    data.loc[i,'numbers'] = f'img_{i}.jpg'"
   ]
  },
  {
   "cell_type": "markdown",
   "metadata": {},
   "source": [
    "### define SDDR parameters"
   ]
  },
  {
   "cell_type": "code",
   "execution_count": 3,
   "metadata": {
    "scrolled": false
   },
   "outputs": [],
   "source": [
    "# formulas of the statistical model\n",
    "formulas = {'loc': '~ -1 + spline(x1, bs=\"bs\", df=10) + x2 + dnn(numbers) + spline(x3, bs=\"bs\", df=10)',\n",
    "            'scale': '~1'\n",
    "            }\n",
    "distribution  = 'Normal'\n",
    "\n",
    "# define the 'dnn' model\n",
    "deep_models_dict = {\n",
    "'dnn': {\n",
    "    'model': nn.Sequential(nn.Flatten(1, -1),\n",
    "                           nn.Linear(28*28,128),\n",
    "                           nn.ReLU()),\n",
    "    'output_shape': 128},\n",
    "}\n",
    "\n",
    "\n",
    "train_parameters = {\n",
    "    'batch_size': 8000,\n",
    "    'epochs': 1000,\n",
    "    'degrees_of_freedom': {'loc':9.6, 'scale':9.6},\n",
    "    'optimizer' : optim.Adam\n",
    "}\n",
    "\n",
    "\n",
    "# provide the location of the unstructured data\n",
    "unstructured_data = {\n",
    "  'numbers' : {\n",
    "    'path' : '../data/mnist_data/mnist_images',\n",
    "    'datatype' : 'image'\n",
    "  }\n",
    "}\n",
    "\n",
    "output_dir = './outputs'\n"
   ]
  },
  {
   "cell_type": "markdown",
   "metadata": {},
   "source": [
    "## Initialization and training of SDDR"
   ]
  },
  {
   "cell_type": "code",
   "execution_count": null,
   "metadata": {},
   "outputs": [
    {
     "name": "stderr",
     "output_type": "stream",
     "text": [
      "/home/haicu/dominik.thalmeier/anaconda3/envs/sddr/lib/python3.8/site-packages/torch/cuda/__init__.py:52: UserWarning: CUDA initialization: Found no NVIDIA driver on your system. Please check that you have an NVIDIA GPU and installed a driver from http://www.nvidia.com/Download/index.aspx (Triggered internally at  /pytorch/c10/cuda/CUDAFunctions.cpp:100.)\n",
      "  return torch._C._cuda_getDeviceCount() > 0\n"
     ]
    },
    {
     "name": "stdout",
     "output_type": "stream",
     "text": [
      "Using device:  cpu\n",
      "Beginning training ...\n",
      "Train Epoch: 0 \t Loss: 131.097122\n",
      "Train Epoch: 100 \t Loss: 101.242302\n",
      "Train Epoch: 200 \t Loss: 76.320885\n",
      "Train Epoch: 300 \t Loss: 57.496658\n"
     ]
    }
   ],
   "source": [
    "sddr = Sddr(output_dir=output_dir,\n",
    "            distribution=distribution,\n",
    "            formulas=formulas,\n",
    "            deep_models_dict=deep_models_dict,\n",
    "            train_parameters=train_parameters,\n",
    "            )\n",
    "\n",
    "sddr.train(structured_data=data,\n",
    "           target=\"y_gen\",\n",
    "           unstructured_data = unstructured_data,\n",
    "          plot=True)"
   ]
  },
  {
   "cell_type": "markdown",
   "metadata": {},
   "source": [
    "## Model saving and loading"
   ]
  },
  {
   "cell_type": "code",
   "execution_count": null,
   "metadata": {},
   "outputs": [],
   "source": [
    "# the model can also be saved\n",
    "sddr.save('temp_simple_gam.pth')\n"
   ]
  },
  {
   "cell_type": "code",
   "execution_count": null,
   "metadata": {},
   "outputs": [],
   "source": [
    "## and a new model can be created using the saved parameters\n",
    "\n",
    "# load trained SDDR and predict\n",
    "train_parameters['epochs'] = 1100 # we increase the number of epochs, that the model should train\n",
    "\n",
    "#we create a new model\n",
    "sddr_resume = SDDR(output_dir=output_dir,\n",
    "            distribution=distribution,\n",
    "            formulas=formulas,\n",
    "            deep_models_dict=deep_models_dict,\n",
    "            train_parameters=train_parameters)\n",
    "\n",
    "#and we load the saved network. In order for the preprocessing steps to be set up again, the training data is needed\n",
    "sddr_resume.load('./outputs/temp_simple_gam.pth', data)"
   ]
  },
  {
   "cell_type": "code",
   "execution_count": null,
   "metadata": {},
   "outputs": [],
   "source": [
    "# after loading the training can be resumed\n",
    "sddr_resume.train(target=target, structured_data=data, resume=True)"
   ]
  },
  {
   "cell_type": "markdown",
   "metadata": {},
   "source": [
    "## Evaluation"
   ]
  },
  {
   "cell_type": "code",
   "execution_count": null,
   "metadata": {},
   "outputs": [],
   "source": [
    "#compute and plot partial effects as estimated by the splines\n",
    "partial_effects_loc = sddr.eval('loc',plot=True)\n",
    "partial_effects_scale = sddr.eval('scale',plot=True)"
   ]
  },
  {
   "cell_type": "code",
   "execution_count": null,
   "metadata": {},
   "outputs": [],
   "source": [
    "# compare prediction of neural network with ground truth\n",
    "\n",
    "data_pred = data.loc[:,:]\n",
    "ground_truth  = data.loc[:,'groundtruth']\n",
    "# predict returns a distribution layer that gives statistical information about the prediction\n",
    "distribution_layer, partial_effect = sddr.predict(data_pred,\n",
    "                                                  clipping=True, \n",
    "                                                  plot=False, \n",
    "                                                  unstructured_data = unstructured_data)\n",
    "predicted_mean = distribution_layer.loc[:,:].T\n",
    "predicted_variance = distribution_layer.scale[0]\n",
    "\n",
    "plt.scatter(ground_truth, predicted_mean)\n",
    "print(f\"Predicted variance for first sample: {predicted_variance}\")"
   ]
  },
  {
   "cell_type": "code",
   "execution_count": null,
   "metadata": {},
   "outputs": [],
   "source": [
    "# check the if the model learned the correct correspondence of images and numbers\n",
    "\n",
    "# we create a data set where we set all inputs but the images to be zero\n",
    "data_pred2 = data.copy()\n",
    "\n",
    "data_pred2.loc[:,'x1'] = 0\n",
    "data_pred2.loc[:,'x2'] = 0\n",
    "data_pred2.loc[:,'x3'] = 0\n",
    "data_pred2\n",
    "\n",
    "distribution_layer, partial_effect = sddr.predict(data_pred2,\n",
    "                                                  clipping=True, \n",
    "                                                  plot=False, \n",
    "                                                  unstructured_data = unstructured_data)\n",
    "\n",
    "data_pred2['predicted_number'] = distribution_layer.loc[:,:].numpy().flatten()\n",
    "\n",
    "#we compare the true number on the images with the predicted number\n",
    "sns.boxplot(x=\"y_true\", y=\"predicted_number\", data=data_pred2)\n"
   ]
  }
 ],
 "metadata": {
  "kernelspec": {
   "display_name": "sddr",
   "language": "python",
   "name": "sddr"
  },
  "language_info": {
   "codemirror_mode": {
    "name": "ipython",
    "version": 3
   },
   "file_extension": ".py",
   "mimetype": "text/x-python",
   "name": "python",
   "nbconvert_exporter": "python",
   "pygments_lexer": "ipython3",
   "version": "3.8.2"
  }
 },
 "nbformat": 4,
 "nbformat_minor": 4
}
