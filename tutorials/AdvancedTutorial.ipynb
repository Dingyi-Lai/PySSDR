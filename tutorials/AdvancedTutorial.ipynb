{
 "cells": [
  {
   "cell_type": "markdown",
   "metadata": {},
   "source": [
    "# PySDDR: An Advanced Tutorial\n",
    "\n",
    "In the beginner's guide only tabular data was used as input to the PySDDR framework. In this advanced tutorial we show the effects when combining structured and unstructured data. Currently, the framework only supports images as unstructured data.\n",
    "\n",
    "We will use the MNIST dataset as a source for the unstructured data and generate additional tabular features corresponding to those. Our outcome in this tutorial is simulated based on linear and non-linear effects of tabular data and a linear effect of the number shown on the MNIST image. Our model is not provided with the (true) number, but instead has to learn the number effect from the image (together with the structured data effects):\n",
    "\\begin{equation*}\n",
    "y = \\sin(x_1) - 3x_2 + x_3^4 + 3\\cdot number + \\epsilon\n",
    "\\end{equation*}\n",
    "with $\\epsilon \\sim \\mathcal{N}(0, \\sigma^2)$ and $number$ is the number on the MNIST image.\n",
    "\n",
    "The aim of training is for the model to be able to output a latent effect, representing the number depicted in the MNIST image.\n",
    "\n",
    "We start by importing the sddr module and other required libraries"
   ]
  },
  {
   "cell_type": "code",
   "execution_count": null,
   "metadata": {},
   "outputs": [],
   "source": [
    "!pip install .."
   ]
  },
  {
   "cell_type": "code",
   "execution_count": 1,
   "metadata": {},
   "outputs": [
    {
     "name": "stderr",
     "output_type": "stream",
     "text": [
      "/home/scc/pa6512/miniconda3/lib/python3.12/site-packages/torch/utils/_pytree.py:185: FutureWarning: optree is installed but the version is too old to support PyTorch Dynamo in C++ pytree. C++ pytree support is disabled. Please consider upgrading optree using `python3 -m pip install --upgrade 'optree>=0.13.0'`.\n",
      "  warnings.warn(\n"
     ]
    }
   ],
   "source": [
    "# import the sddr module\n",
    "from sddr import Sddr\n",
    "\n",
    "import torch\n",
    "import torch.nn as nn\n",
    "import torch.optim as optim\n",
    "import pandas as pd\n",
    "import numpy as np\n",
    "import matplotlib.pyplot as plt\n",
    "import seaborn as sns\n",
    "\n",
    "\n",
    "#set seeds for reproducibility\n",
    "torch.manual_seed(1)\n",
    "np.random.seed(1)"
   ]
  },
  {
   "cell_type": "markdown",
   "metadata": {},
   "source": [
    "### User inputs \n",
    "\n",
    "First the user defines the data to be used. The data is loaded and if it does not already exist, a column needs to be added to the tabular data describing the unstructured data - structured data correspondence. In the example below we add a column where each item includes the name of the image to which the current row of tabular data corresponds."
   ]
  },
  {
   "cell_type": "code",
   "execution_count": null,
   "metadata": {},
   "outputs": [],
   "source": []
  },
  {
   "cell_type": "code",
   "execution_count": 2,
   "metadata": {},
   "outputs": [],
   "source": [
    "data_path = '../data/mnist_data/tab.csv'\n",
    "\n",
    "data = pd.read_csv(data_path,delimiter=',')\n",
    "\n",
    "# append a column for the numbers: each data point contains a file name of the corresponding image\n",
    "for i in data.index:\n",
    "    data.loc[i,'numbers'] = f'img_{i}.jpg'"
   ]
  },
  {
   "cell_type": "code",
   "execution_count": 5,
   "metadata": {},
   "outputs": [
    {
     "data": {
      "text/html": [
       "<div>\n",
       "<style scoped>\n",
       "    .dataframe tbody tr th:only-of-type {\n",
       "        vertical-align: middle;\n",
       "    }\n",
       "\n",
       "    .dataframe tbody tr th {\n",
       "        vertical-align: top;\n",
       "    }\n",
       "\n",
       "    .dataframe thead th {\n",
       "        text-align: right;\n",
       "    }\n",
       "</style>\n",
       "<table border=\"1\" class=\"dataframe\">\n",
       "  <thead>\n",
       "    <tr style=\"text-align: right;\">\n",
       "      <th></th>\n",
       "      <th>x1</th>\n",
       "      <th>x2</th>\n",
       "      <th>x3</th>\n",
       "      <th>y_gen</th>\n",
       "      <th>y_true</th>\n",
       "      <th>numbers</th>\n",
       "    </tr>\n",
       "  </thead>\n",
       "  <tbody>\n",
       "    <tr>\n",
       "      <th>0</th>\n",
       "      <td>2.606303</td>\n",
       "      <td>-0.141809</td>\n",
       "      <td>0.053795</td>\n",
       "      <td>-11.283425</td>\n",
       "      <td>2</td>\n",
       "      <td>img_0.jpg</td>\n",
       "    </tr>\n",
       "    <tr>\n",
       "      <th>1</th>\n",
       "      <td>2.746226</td>\n",
       "      <td>-0.813898</td>\n",
       "      <td>0.753431</td>\n",
       "      <td>12.308747</td>\n",
       "      <td>9</td>\n",
       "      <td>img_1.jpg</td>\n",
       "    </tr>\n",
       "    <tr>\n",
       "      <th>2</th>\n",
       "      <td>-1.343725</td>\n",
       "      <td>-0.325541</td>\n",
       "      <td>0.249850</td>\n",
       "      <td>-8.534480</td>\n",
       "      <td>3</td>\n",
       "      <td>img_2.jpg</td>\n",
       "    </tr>\n",
       "    <tr>\n",
       "      <th>3</th>\n",
       "      <td>2.076264</td>\n",
       "      <td>0.378157</td>\n",
       "      <td>-0.444105</td>\n",
       "      <td>-5.306146</td>\n",
       "      <td>4</td>\n",
       "      <td>img_3.jpg</td>\n",
       "    </tr>\n",
       "    <tr>\n",
       "      <th>4</th>\n",
       "      <td>0.890613</td>\n",
       "      <td>-1.994485</td>\n",
       "      <td>-0.050270</td>\n",
       "      <td>-10.098662</td>\n",
       "      <td>0</td>\n",
       "      <td>img_4.jpg</td>\n",
       "    </tr>\n",
       "    <tr>\n",
       "      <th>...</th>\n",
       "      <td>...</td>\n",
       "      <td>...</td>\n",
       "      <td>...</td>\n",
       "      <td>...</td>\n",
       "      <td>...</td>\n",
       "      <td>...</td>\n",
       "    </tr>\n",
       "    <tr>\n",
       "      <th>7995</th>\n",
       "      <td>-2.771807</td>\n",
       "      <td>0.670894</td>\n",
       "      <td>0.611563</td>\n",
       "      <td>-0.159374</td>\n",
       "      <td>7</td>\n",
       "      <td>img_7995.jpg</td>\n",
       "    </tr>\n",
       "    <tr>\n",
       "      <th>7996</th>\n",
       "      <td>1.900410</td>\n",
       "      <td>-0.998891</td>\n",
       "      <td>0.207087</td>\n",
       "      <td>9.028810</td>\n",
       "      <td>7</td>\n",
       "      <td>img_7996.jpg</td>\n",
       "    </tr>\n",
       "    <tr>\n",
       "      <th>7997</th>\n",
       "      <td>-0.305296</td>\n",
       "      <td>0.377886</td>\n",
       "      <td>0.535751</td>\n",
       "      <td>0.410818</td>\n",
       "      <td>7</td>\n",
       "      <td>img_7997.jpg</td>\n",
       "    </tr>\n",
       "    <tr>\n",
       "      <th>7998</th>\n",
       "      <td>-0.995108</td>\n",
       "      <td>-0.223575</td>\n",
       "      <td>1.437215</td>\n",
       "      <td>-6.987264</td>\n",
       "      <td>3</td>\n",
       "      <td>img_7998.jpg</td>\n",
       "    </tr>\n",
       "    <tr>\n",
       "      <th>7999</th>\n",
       "      <td>2.737189</td>\n",
       "      <td>-0.199521</td>\n",
       "      <td>1.308849</td>\n",
       "      <td>7.862970</td>\n",
       "      <td>7</td>\n",
       "      <td>img_7999.jpg</td>\n",
       "    </tr>\n",
       "  </tbody>\n",
       "</table>\n",
       "<p>8000 rows × 6 columns</p>\n",
       "</div>"
      ],
      "text/plain": [
       "            x1        x2        x3      y_gen  y_true       numbers\n",
       "0     2.606303 -0.141809  0.053795 -11.283425       2     img_0.jpg\n",
       "1     2.746226 -0.813898  0.753431  12.308747       9     img_1.jpg\n",
       "2    -1.343725 -0.325541  0.249850  -8.534480       3     img_2.jpg\n",
       "3     2.076264  0.378157 -0.444105  -5.306146       4     img_3.jpg\n",
       "4     0.890613 -1.994485 -0.050270 -10.098662       0     img_4.jpg\n",
       "...        ...       ...       ...        ...     ...           ...\n",
       "7995 -2.771807  0.670894  0.611563  -0.159374       7  img_7995.jpg\n",
       "7996  1.900410 -0.998891  0.207087   9.028810       7  img_7996.jpg\n",
       "7997 -0.305296  0.377886  0.535751   0.410818       7  img_7997.jpg\n",
       "7998 -0.995108 -0.223575  1.437215  -6.987264       3  img_7998.jpg\n",
       "7999  2.737189 -0.199521  1.308849   7.862970       7  img_7999.jpg\n",
       "\n",
       "[8000 rows x 6 columns]"
      ]
     },
     "execution_count": 5,
     "metadata": {},
     "output_type": "execute_result"
    }
   ],
   "source": [
    "data"
   ]
  },
  {
   "cell_type": "code",
   "execution_count": 6,
   "metadata": {},
   "outputs": [
    {
     "data": {
      "text/plain": [
       "1.9999997500628675"
      ]
     },
     "execution_count": 6,
     "metadata": {},
     "output_type": "execute_result"
    }
   ],
   "source": [
    "np.ptp(np.sin(data['x1']))"
   ]
  },
  {
   "cell_type": "markdown",
   "metadata": {},
   "source": [
    "Next the distribution, formulas and training parameters are defined. The size of each image is ```28x28``` so our neural network has a layer which flattens the input, which is followed by a linear layer of input size ```28x28``` and an output size of ```128```. Finally, this is followed by a ```ReLU``` for the activation.\n",
    "\n",
    "Here the structured data is not pre-loaded as it would be typically too large to load in one step. Therefore the path to the directory in which it is stored is provided along with the data type (for now only 'images' supported). The images are then loaded in batches using PyTorch's dataloader. Note that here again the key given in the ```unstructured_data``` dictionary must match the name it is given in the formula, in this case ```'numbers'```. Similarly the keys of the ```deep_models_dict``` must also match the names in the formula, in this case ```'dnn'```"
   ]
  },
  {
   "cell_type": "code",
   "execution_count": 3,
   "metadata": {},
   "outputs": [],
   "source": [
    "# define distribution and the formula for the distibutional parameter\n",
    "distribution  = 'Normal'\n",
    "\n",
    "formulas = {'loc': '~ -1 + spline(x1, bs=\"bs\", df=10) + x2 + dnn(numbers) + spline(x3, bs=\"bs\", df=10)',\n",
    "            'scale': '~1'\n",
    "            }\n",
    "\n",
    "\n",
    "# define the deep neural networks' architectures and output shapes used in the above formula\n",
    "deep_models_dict = {\n",
    "'dnn': {\n",
    "    'model': nn.Sequential(nn.Flatten(1, -1),\n",
    "                           nn.Linear(28*28,128),\n",
    "                           nn.ReLU()),\n",
    "    'output_shape': 128},\n",
    "}\n",
    "\n",
    "# define your training hyperparameters\n",
    "train_parameters = {\n",
    "    'batch_size': 8000,\n",
    "    'epochs': 1000,\n",
    "    'degrees_of_freedom': {'loc':9.6, 'scale':9.6},\n",
    "    'optimizer' : optim.Adam,\n",
    "    'val_split': 0.15,\n",
    "    'early_stop_epsilon': 0.001,\n",
    "    'dropout_rate': 0.01\n",
    "}\n",
    "\n",
    "\n",
    "# provide the location and datatype of the unstructured data\n",
    "unstructured_data = {\n",
    "  'numbers' : {\n",
    "    'path' : '../data/mnist_data/mnist_images',\n",
    "    'datatype' : 'image'\n",
    "  }\n",
    "}\n",
    "\n",
    "# define output directory\n",
    "output_dir = './outputs'\n"
   ]
  },
  {
   "cell_type": "markdown",
   "metadata": {},
   "source": [
    "### Initialization\n",
    "\n",
    "The sddr instance is initialized with the parameters given by the user in the previous step:"
   ]
  },
  {
   "cell_type": "code",
   "execution_count": 4,
   "metadata": {},
   "outputs": [
    {
     "name": "stdout",
     "output_type": "stream",
     "text": [
      "Using device:  cpu\n"
     ]
    }
   ],
   "source": [
    "sddr = Sddr(output_dir=output_dir,\n",
    "            distribution=distribution,\n",
    "            formulas=formulas,\n",
    "            deep_models_dict=deep_models_dict,\n",
    "            train_parameters=train_parameters,\n",
    "            modify=False\n",
    "            )"
   ]
  },
  {
   "cell_type": "code",
   "execution_count": 7,
   "metadata": {},
   "outputs": [
    {
     "data": {
      "text/plain": [
       "<sddr.sddr.Sddr at 0x1456c38b7c80>"
      ]
     },
     "execution_count": 7,
     "metadata": {},
     "output_type": "execute_result"
    }
   ],
   "source": [
    "sddr"
   ]
  },
  {
   "cell_type": "markdown",
   "metadata": {},
   "source": [
    "### Training\n",
    "\n",
    "The sddr network is trained with the data defined above and the loss curve is plotted."
   ]
  },
  {
   "cell_type": "code",
   "execution_count": 8,
   "metadata": {},
   "outputs": [
    {
     "name": "stdout",
     "output_type": "stream",
     "text": [
      "Beginning training ...\n",
      "Train Epoch: 0 \t Training Loss: 129.044235\n",
      "Train Epoch: 0 \t Validation Loss: 143.731430\n",
      "Train Epoch: 100 \t Training Loss: 98.631737\n",
      "Train Epoch: 100 \t Validation Loss: 118.444672\n",
      "Train Epoch: 200 \t Training Loss: 72.725510\n",
      "Train Epoch: 200 \t Validation Loss: 106.192207\n",
      "Train Epoch: 300 \t Training Loss: 53.934399\n",
      "Train Epoch: 300 \t Validation Loss: 97.589706\n",
      "Train Epoch: 400 \t Training Loss: 40.977585\n",
      "Train Epoch: 400 \t Validation Loss: 91.561447\n",
      "Train Epoch: 500 \t Training Loss: 32.425842\n",
      "Train Epoch: 500 \t Validation Loss: 86.033844\n",
      "Train Epoch: 600 \t Training Loss: 26.020658\n",
      "Train Epoch: 600 \t Validation Loss: 81.424416\n",
      "Train Epoch: 700 \t Training Loss: 21.336876\n",
      "Train Epoch: 700 \t Validation Loss: 77.051880\n",
      "Train Epoch: 800 \t Training Loss: 17.973541\n",
      "Train Epoch: 800 \t Validation Loss: 74.675018\n",
      "Train Epoch: 900 \t Training Loss: 15.363472\n",
      "Train Epoch: 900 \t Validation Loss: 71.651222\n"
     ]
    },
    {
     "data": {
      "image/png": "[encoded data removed]",
      "text/plain": [
       "<Figure size 640x480 with 1 Axes>"
      ]
     },
     "metadata": {},
     "output_type": "display_data"
    }
   ],
   "source": [
    "sddr.train(structured_data=data,\n",
    "           target=\"y_gen\",\n",
    "           unstructured_data = unstructured_data,\n",
    "           plot=True)"
   ]
  },
  {
   "cell_type": "code",
   "execution_count": 9,
   "metadata": {},
   "outputs": [
    {
     "name": "stderr",
     "output_type": "stream",
     "text": [
      "/scratch/ipykernel_3245244/1255580359.py:1: UserWarning: Please note that the metadata for the structured input has not been saved. If you want to load the model and use\n",
      "        it on new data you will need to also give the structured data used for training as input to the load function.\n",
      "  sddr.save(\"ssdr_advanced_tutorials.pth\")\n"
     ]
    }
   ],
   "source": [
    "sddr.save(\"ssdr_advanced_tutorials.pth\")"
   ]
  },
  {
   "cell_type": "code",
   "execution_count": 5,
   "metadata": {},
   "outputs": [
    {
     "name": "stdout",
     "output_type": "stream",
     "text": [
      "Loaded model outputs/ssdr_advanced_tutorials.pth at epoch 1000 with a validation loss of 69.6172\n",
      "Beginning training ...\n"
     ]
    }
   ],
   "source": [
    "sddr.load(\"outputs/ssdr_advanced_tutorials.pth\", data)\n",
    "sddr.train(target=\"y_gen\", structured_data=data, resume=True)"
   ]
  },
  {
   "cell_type": "code",
   "execution_count": 45,
   "metadata": {},
   "outputs": [
    {
     "data": {
      "text/plain": [
       "''"
      ]
     },
     "execution_count": 45,
     "metadata": {},
     "output_type": "execute_result"
    }
   ],
   "source": [
    "sddr.net.extra_repr()"
   ]
  },
  {
   "cell_type": "code",
   "execution_count": 53,
   "metadata": {},
   "outputs": [],
   "source": [
    "net_loc = sddr.net.single_parameter_sddr_list['loc']"
   ]
  },
  {
   "cell_type": "code",
   "execution_count": null,
   "metadata": {},
   "outputs": [
    {
     "data": {
      "text/plain": [
       "torch.Size([1, 128])"
      ]
     },
     "execution_count": 56,
     "metadata": {},
     "output_type": "execute_result"
    }
   ],
   "source": [
    "deep_head_weights = net_loc.deep_head.weight"
   ]
  },
  {
   "cell_type": "code",
   "execution_count": 57,
   "metadata": {},
   "outputs": [],
   "source": [
    "structured_head_weights = net_loc.structured_head.weight\n",
    "structured_head_bias = net_loc.structured_head.bias"
   ]
  },
  {
   "cell_type": "code",
   "execution_count": 59,
   "metadata": {},
   "outputs": [
    {
     "data": {
      "text/plain": [
       "torch.Size([1, 21])"
      ]
     },
     "execution_count": 59,
     "metadata": {},
     "output_type": "execute_result"
    }
   ],
   "source": [
    "structured_head_weights.shape"
   ]
  },
  {
   "cell_type": "code",
   "execution_count": 60,
   "metadata": {},
   "outputs": [],
   "source": [
    "structured_head_bias"
   ]
  },
  {
   "cell_type": "code",
   "execution_count": null,
   "metadata": {},
   "outputs": [
    {
     "data": {
      "text/plain": [
       "(Normal(loc: torch.Size([8000, 1]), scale: torch.Size([8000, 1])),\n",
       " {'loc': [(array([ 2.60630324,  2.74622581, -1.34372493, ..., -0.30529594,\n",
       "           -0.99510831,  2.73718948]),\n",
       "    array([-0.01231886, -0.02674322, -0.05867052, ..., -0.00270661,\n",
       "           -0.04503903, -0.02579797], dtype=float32),\n",
       "    array([-0.0125851 , -0.02715843, -0.05905215, ..., -0.00265951,\n",
       "           -0.04532501, -0.026203  ]),\n",
       "    array([-0.00805698, -0.01502311, -0.05640881, ..., -0.00265845,\n",
       "           -0.04280683, -0.01471433]),\n",
       "    array([-0.0125851 , -0.02715843, -0.05905215, ..., -0.00265845,\n",
       "           -0.04532501, -0.026203  ]),\n",
       "    array([-0.0125851 , -0.02715843, -0.05905215, ..., -0.00265845,\n",
       "           -0.04532501, -0.026203  ])),\n",
       "   (array([0.05379511, 0.75343075, 0.24985048, ..., 0.53575066, 1.43721528,\n",
       "           1.30884905]),\n",
       "    array([-0.16426979, -0.02983898, -0.13894872, ..., -0.08498804,\n",
       "            0.1788552 ,  0.13857587], dtype=float32),\n",
       "    array([-0.1659551 , -0.02998577, -0.14058988, ..., -0.08589182,\n",
       "            0.17840889,  0.13953611]),\n",
       "    array([-0.1635651 , -0.02998577, -0.12366965, ..., -0.08586265,\n",
       "            0.18088149,  0.1402413 ]),\n",
       "    array([-0.1659551 , -0.02998577, -0.14058988, ..., -0.08589182,\n",
       "            0.18088149,  0.1402413 ]),\n",
       "    array([-0.1659551 , -0.02998577, -0.14058988, ..., -0.08589182,\n",
       "            0.18088149,  0.1402413 ]))],\n",
       "  'scale': []})"
      ]
     },
     "execution_count": 28,
     "metadata": {},
     "output_type": "execute_result"
    }
   ],
   "source": [
    "# Create a dictionary to store latent features for each deep model\n",
    "latent_features = {}\n",
    "\n",
    "def make_hook(name):\n",
    "    def hook(module, input, output):\n",
    "        latent_features[name] = output.detach()\n",
    "    return hook\n",
    "\n",
    "# Register hooks on each deep model in the deep_models_dict\n",
    "hook_handles = []\n",
    "for name, model in net_loc.deep_models_dict.items():\n",
    "    h = model.register_forward_hook(make_hook(name))\n",
    "    hook_handles.append(h)\n",
    "\n",
    "# Prepare a sample input (make sure 'data_dict' is prepared according to your model)\n",
    "# For example:\n",
    "# data_dict = {\n",
    "#     \"structured\": structured_input_tensor, \n",
    "#     \"loc\": deep_input_tensor_for_loc,  # plus additional keys if needed\n",
    "#     ... \n",
    "# }\n",
    "\n",
    "# Run a forward pass through net_loc (or directly net_loc for the \"loc\" branch)\n",
    "_ = net_loc({\"structured\": sddr_data[\"structured\"],\n",
    "              \"loc\": sddr_data[\"loc\"]}, training=False)\n",
    "\n",
    "# At this point, latent_features will contain the outputs for each deep model.\n",
    "print(\"Latent features (deep models):\")\n",
    "for name, features in latent_features.items():\n",
    "    print(f\"{name}: shape {features.shape}\")\n",
    "\n",
    "# Remove the hooks after use\n",
    "for h in hook_handles:\n",
    "    h.remove()"
   ]
  },
  {
   "cell_type": "code",
   "execution_count": 34,
   "metadata": {},
   "outputs": [
    {
     "data": {
      "text/plain": [
       "2"
      ]
     },
     "execution_count": 34,
     "metadata": {},
     "output_type": "execute_result"
    }
   ],
   "source": [
    "len(pred[1]['loc'])"
   ]
  },
  {
   "cell_type": "code",
   "execution_count": 38,
   "metadata": {},
   "outputs": [
    {
     "data": {
      "text/plain": [
       "6"
      ]
     },
     "execution_count": 38,
     "metadata": {},
     "output_type": "execute_result"
    }
   ],
   "source": [
    "len(pred[1]['loc'][0])"
   ]
  },
  {
   "cell_type": "code",
   "execution_count": null,
   "metadata": {},
   "outputs": [
    {
     "data": {
      "text/plain": [
       "array([-0.03699172, -0.04553132, -0.06530747, -0.06824484, -0.01498337,\n",
       "        0.05458267,  0.07935693,  0.02893556, -0.0373396 , -0.06881794],\n",
       "      dtype=float32)"
      ]
     },
     "execution_count": 22,
     "metadata": {},
     "output_type": "execute_result"
    }
   ],
   "source": [
    "sddr.coeff('loc')['spline(x1, bs=\"bs\", df=10)']"
   ]
  },
  {
   "cell_type": "code",
   "execution_count": 29,
   "metadata": {},
   "outputs": [
    {
     "data": {
      "text/plain": [
       "[['x2']]"
      ]
     },
     "execution_count": 29,
     "metadata": {},
     "output_type": "execute_result"
    }
   ],
   "source": [
    "sddr.prepare_data.dm_info_dict['loc']['non_spline_info']['list_of_non_spline_input_features']"
   ]
  },
  {
   "cell_type": "code",
   "execution_count": 28,
   "metadata": {},
   "outputs": [
    {
     "data": {
      "text/plain": [
       "[['x1'], ['x3']]"
      ]
     },
     "execution_count": 28,
     "metadata": {},
     "output_type": "execute_result"
    }
   ],
   "source": [
    "sddr.prepare_data.dm_info_dict['loc']['spline_info']['list_of_spline_input_features']"
   ]
  },
  {
   "cell_type": "code",
   "execution_count": 8,
   "metadata": {},
   "outputs": [
    {
     "data": {
      "text/plain": [
       "{'list_of_non_spline_slices': [slice(10, 11, None),\n",
       "  slice(0, 10, None),\n",
       "  slice(11, 21, None)],\n",
       " 'list_of_non_spline_input_features': [['x2']],\n",
       " 'list_of_term_names': ['x2',\n",
       "  'spline(x1, bs=\"bs\", df=10)',\n",
       "  'spline(x3, bs=\"bs\", df=10)']}"
      ]
     },
     "execution_count": 8,
     "metadata": {},
     "output_type": "execute_result"
    }
   ],
   "source": [
    "sddr.prepare_data.dm_info_dict['loc']['non_spline_info']"
   ]
  },
  {
   "cell_type": "code",
   "execution_count": 12,
   "metadata": {},
   "outputs": [],
   "source": [
    "spline_terms = sddr.prepare_data.dm_info_dict['loc']['spline_info']['list_of_term_names']"
   ]
  },
  {
   "cell_type": "code",
   "execution_count": 13,
   "metadata": {},
   "outputs": [
    {
     "data": {
      "text/plain": [
       "['spline(x1, bs=\"bs\", df=10)', 'spline(x3, bs=\"bs\", df=10)']"
      ]
     },
     "execution_count": 13,
     "metadata": {},
     "output_type": "execute_result"
    }
   ],
   "source": [
    "spline_terms"
   ]
  },
  {
   "cell_type": "code",
   "execution_count": 15,
   "metadata": {},
   "outputs": [],
   "source": [
    "spline_terms = [sublist for sublist in spline_terms]"
   ]
  },
  {
   "cell_type": "code",
   "execution_count": 16,
   "metadata": {},
   "outputs": [
    {
     "data": {
      "text/plain": [
       "['spline(x1, bs=\"bs\", df=10)', 'spline(x3, bs=\"bs\", df=10)']"
      ]
     },
     "execution_count": 16,
     "metadata": {},
     "output_type": "execute_result"
    }
   ],
   "source": [
    "spline_terms"
   ]
  },
  {
   "cell_type": "code",
   "execution_count": 18,
   "metadata": {},
   "outputs": [
    {
     "data": {
      "text/plain": [
       "{'spline_info': {'list_of_spline_slices': [],\n",
       "  'list_of_spline_input_features': [],\n",
       "  'list_of_term_names': []},\n",
       " 'non_spline_info': {'list_of_non_spline_slices': [slice(0, 1, None)],\n",
       "  'list_of_non_spline_input_features': [[]],\n",
       "  'list_of_term_names': ['Intercept']}}"
      ]
     },
     "execution_count": 18,
     "metadata": {},
     "output_type": "execute_result"
    }
   ],
   "source": [
    "sddr.prepare_data.dm_info_dict['scale']"
   ]
  },
  {
   "cell_type": "code",
   "execution_count": 18,
   "metadata": {},
   "outputs": [
    {
     "data": {
      "text/plain": [
       "-0.3931892"
      ]
     },
     "execution_count": 18,
     "metadata": {},
     "output_type": "execute_result"
    }
   ],
   "source": [
    "sddr.coeff('loc')['x2'][0]"
   ]
  },
  {
   "cell_type": "code",
   "execution_count": 10,
   "metadata": {},
   "outputs": [],
   "source": [
    "true_nonlinear_effects = np.zeros((2, len(data)))\n",
    "true_nonlinear_effects[0,:] = np.sin(data['x1'])\n",
    "true_nonlinear_effects[1,:] = data['x3'] ** 4\n"
   ]
  },
  {
   "cell_type": "code",
   "execution_count": 11,
   "metadata": {},
   "outputs": [],
   "source": [
    "\n",
    "degrees_of_freedom = {'loc':9.6, 'scale':9.6}\n",
    "def plot_true_and_ci(sorted_feature, sorted_pred, sorted_ci950,\n",
    "                    sorted_ci951, sorted_true_effect, param,\n",
    "                    idx):\n",
    "    \"\"\"\n",
    "    Plots the estimated partial effect with its 95% CI and overlays the true nonlinear effect.\n",
    "    \n",
    "    Parameters:\n",
    "      - true_effect: 1D array of shape (n_samples,) for the true effect for this spline.\n",
    "      - partial_effect: tuple (feature, pred, ci950, ci951, ci250, ci251) from ssdr.eval.\n",
    "      - param: parameter name (e.g., 'loc' or 'scale' or 'rate').\n",
    "      - spline_index: index of the current spline.\n",
    "    \"\"\"\n",
    "\n",
    "    plt.figure(figsize=(8, 6))\n",
    "    plt.plot(sorted_feature, sorted_pred, label=\"Estimated Partial Effect\", color=\"blue\")\n",
    "    plt.fill_between(sorted_feature, sorted_ci950, sorted_ci951, color=\"blue\", alpha=0.3, label=\"95% CI\")\n",
    "    plt.scatter(sorted_feature, sorted_true_effect, color=\"red\", marker=\"x\", label=\"True Nonlinear Effect\")\n",
    "    plt.title(f\"Parameter: {param} - Spline {idx}\")\n",
    "    plt.xlabel(\"Feature\")\n",
    "    plt.ylabel(\"Effect\")\n",
    "    plt.legend()\n",
    "    plt.show()"
   ]
  },
  {
   "cell_type": "code",
   "execution_count": 19,
   "metadata": {},
   "outputs": [
    {
     "data": {
      "text/plain": [
       "array([-3.14009162, -3.13924602, -3.13918887, ...,  3.1399631 ,\n",
       "        3.14010504,  3.14053233])"
      ]
     },
     "execution_count": 19,
     "metadata": {},
     "output_type": "execute_result"
    }
   ],
   "source": [
    "sorted_feature"
   ]
  },
  {
   "cell_type": "code",
   "execution_count": 21,
   "metadata": {},
   "outputs": [
    {
     "data": {
      "text/plain": [
       "0       0.510090\n",
       "1       0.385147\n",
       "2      -0.974330\n",
       "3       0.874948\n",
       "4       0.777458\n",
       "          ...   \n",
       "7995   -0.361416\n",
       "7996    0.946168\n",
       "7997   -0.300575\n",
       "7998   -0.838818\n",
       "7999    0.393470\n",
       "Name: x1, Length: 8000, dtype: float64"
      ]
     },
     "execution_count": 21,
     "metadata": {},
     "output_type": "execute_result"
    }
   ],
   "source": [
    "true_nonlinear_effects"
   ]
  },
  {
   "cell_type": "code",
   "execution_count": 12,
   "metadata": {},
   "outputs": [
    {
     "data": {
      "image/png": "[encoded data removed]",
      "text/plain": [
       "<Figure size 800x600 with 1 Axes>"
      ]
     },
     "metadata": {},
     "output_type": "display_data"
    },
    {
     "data": {
      "image/png": "[encoded data removed]",
      "text/plain": [
       "<Figure size 800x600 with 1 Axes>"
      ]
     },
     "metadata": {},
     "output_type": "display_data"
    }
   ],
   "source": [
    "eval_dict = {}\n",
    "for k in degrees_of_freedom.keys():\n",
    "    eval_results = sddr.eval(k, plot=False)\n",
    "    eval_dict[k] = eval_results\n",
    "\n",
    "param_to_index = {\"rate\": 0, \"loc\": 0, \"scale\": 1}\n",
    "\n",
    "# Compute coverage rates for each parameter.\n",
    "coverage_rates = {}\n",
    "for param, partial_effects in eval_dict.items():\n",
    "    if len(partial_effects)>0:\n",
    "        coverage_rates[param] = {}\n",
    "        # For Gaussian (or gamma) cases, we assume true_nonlinear_effects is a dict with keys matching the parameter names.\n",
    "        # For Poisson, true_nonlinear_effects is a list.\n",
    "        true_effects = np.array(true_nonlinear_effects)\n",
    "        for idx, effect in enumerate(partial_effects):\n",
    "            if len(effect) == 6:\n",
    "                feature, pred, ci950, ci951, _, _ = effect\n",
    "                \n",
    "                # Get the corresponding true effect for this spline; shape: (n_samples, )\n",
    "                true_effect = true_effects[idx,:]\n",
    "                # Sort both the feature and true effect to ensure proper alignment.\n",
    "                sort_idx = np.argsort(feature)\n",
    "                sorted_feature = np.array(feature)[sort_idx]\n",
    "                sorted_pred = np.array(pred)[sort_idx]\n",
    "                sorted_ci950 = ci950[sort_idx]\n",
    "                sorted_ci951 = ci951[sort_idx]\n",
    "                sorted_true_effect = true_effect[sort_idx]\n",
    "\n",
    "                plot_true_and_ci(sorted_feature, sorted_pred, sorted_ci950,\n",
    "                                    sorted_ci951, sorted_true_effect, param,\n",
    "                                    idx)\n",
    "                # Now compute coverage.\n",
    "                covered = np.logical_and(sorted_true_effect >= sorted_ci950, sorted_true_effect <= sorted_ci951)\n",
    "                # covered = np.logical_and(np.logical_and(true_effects >= ci950, true_effects <= ci951))\n",
    "                # breakpoint()\n",
    "                # print(covered)\n",
    "                coverage_rate = np.mean(covered)\n",
    "                coverage_rates[param][f'spline_{idx}'] = coverage_rate\n",
    "            else:\n",
    "                coverage_rates[param][f'spline_{idx}'] = None"
   ]
  },
  {
   "cell_type": "code",
   "execution_count": 24,
   "metadata": {},
   "outputs": [
    {
     "name": "stdout",
     "output_type": "stream",
     "text": [
      "Coverage rates for replicate:\n",
      "Parameter loc:\n",
      "  spline_0: 0.00%\n",
      "  spline_1: 0.50%\n"
     ]
    }
   ],
   "source": [
    "print(\"Coverage rates for replicate:\")\n",
    "for param, cov_dict in coverage_rates.items():\n",
    "    print(f\"Parameter {param}:\")\n",
    "    for key, val in cov_dict.items():\n",
    "        if val is not None:\n",
    "            print(f\"  {key}: {val:.2%}\")\n",
    "        else:\n",
    "            print(f\"  {key}: N/A\")"
   ]
  },
  {
   "cell_type": "code",
   "execution_count": 25,
   "metadata": {},
   "outputs": [
    {
     "data": {
      "text/plain": [
       "{'x2': array([-0.3931892], dtype=float32),\n",
       " 'spline(x1, bs=\"bs\", df=10)': array([-0.03699172, -0.04553132, -0.06530747, -0.06824484, -0.01498337,\n",
       "         0.05458267,  0.07935693,  0.02893556, -0.0373396 , -0.06881794],\n",
       "       dtype=float32),\n",
       " 'spline(x3, bs=\"bs\", df=10)': array([ 0.4896934 ,  0.28971538, -0.00934109, -0.18045202, -0.18766662,\n",
       "        -0.15186863, -0.07683007,  0.27471817,  0.6219222 ,  0.81320816],\n",
       "       dtype=float32)}"
      ]
     },
     "execution_count": 25,
     "metadata": {},
     "output_type": "execute_result"
    }
   ],
   "source": [
    "sddr.coeff(\"loc\")"
   ]
  },
  {
   "cell_type": "code",
   "execution_count": 20,
   "metadata": {},
   "outputs": [
    {
     "data": {
      "text/plain": [
       "['x1', 'x2', 'x3', 'y_true', 'numbers']"
      ]
     },
     "execution_count": 20,
     "metadata": {},
     "output_type": "execute_result"
    }
   ],
   "source": [
    "sddr.dataset.get_list_of_feature_names()"
   ]
  },
  {
   "cell_type": "code",
   "execution_count": 29,
   "metadata": {},
   "outputs": [
    {
     "data": {
      "text/plain": [
       "dict_keys(['loc', 'scale'])"
      ]
     },
     "execution_count": 29,
     "metadata": {},
     "output_type": "execute_result"
    }
   ],
   "source": [
    "sddr.dataset.prepared_data.keys()"
   ]
  },
  {
   "cell_type": "code",
   "execution_count": 32,
   "metadata": {},
   "outputs": [
    {
     "name": "stdout",
     "output_type": "stream",
     "text": [
      "dict_keys(['structured', 'dnn'])\n"
     ]
    }
   ],
   "source": [
    "print(sddr.dataset.prepared_data['loc'].keys())"
   ]
  },
  {
   "cell_type": "code",
   "execution_count": 35,
   "metadata": {},
   "outputs": [
    {
     "data": {
      "text/plain": [
       "torch.Size([8000, 21])"
      ]
     },
     "execution_count": 35,
     "metadata": {},
     "output_type": "execute_result"
    }
   ],
   "source": [
    "sddr.dataset.prepared_data['loc']['structured'].shape # M"
   ]
  },
  {
   "cell_type": "code",
   "execution_count": 39,
   "metadata": {},
   "outputs": [
    {
     "data": {
      "text/plain": [
       "tensor([[0.0000e+00, 0.0000e+00, 0.0000e+00,  ..., 0.0000e+00, 0.0000e+00,\n",
       "         0.0000e+00],\n",
       "        [0.0000e+00, 0.0000e+00, 0.0000e+00,  ..., 1.4356e-01, 1.2702e-03,\n",
       "         0.0000e+00],\n",
       "        [0.0000e+00, 0.0000e+00, 1.6371e-01,  ..., 2.0761e-04, 0.0000e+00,\n",
       "         0.0000e+00],\n",
       "        ...,\n",
       "        [0.0000e+00, 0.0000e+00, 0.0000e+00,  ..., 3.6128e-02, 0.0000e+00,\n",
       "         0.0000e+00],\n",
       "        [0.0000e+00, 0.0000e+00, 3.8173e-02,  ..., 4.8297e-01, 1.1941e-01,\n",
       "         3.0102e-03],\n",
       "        [0.0000e+00, 0.0000e+00, 0.0000e+00,  ..., 4.5218e-01, 8.0059e-02,\n",
       "         8.5850e-04]])"
      ]
     },
     "execution_count": 39,
     "metadata": {},
     "output_type": "execute_result"
    }
   ],
   "source": [
    "sddr.dataset.prepared_data['loc']['structured']"
   ]
  },
  {
   "cell_type": "code",
   "execution_count": 40,
   "metadata": {},
   "outputs": [
    {
     "data": {
      "text/plain": [
       "torch.Size([8000, 1])"
      ]
     },
     "execution_count": 40,
     "metadata": {},
     "output_type": "execute_result"
    }
   ],
   "source": [
    "sddr.dataset.prepared_data['scale']['structured'].shape"
   ]
  },
  {
   "cell_type": "code",
   "execution_count": null,
   "metadata": {},
   "outputs": [],
   "source": [
    "sddr.dataset.prepared_data['loc']['structured']"
   ]
  },
  {
   "cell_type": "markdown",
   "metadata": {},
   "source": [
    "### Evaluation - Visualizing the partial effects\n",
    "\n",
    "In this case the data is assumed to follow a normal distribution, in which case two distributional parameters, loc and scale, need to be estimated. Below we plot the partial effects of each smooth term.\n",
    "\n",
    "Remember the partial effects are computed by: partial effect = smooth_features * coefs (weights)\n",
    "In other words the smoothing terms are multiplied with the weights of the Structured Head. We use the partial effects to interpret whether our model has learned correctly."
   ]
  },
  {
   "cell_type": "code",
   "execution_count": 5,
   "metadata": {},
   "outputs": [
    {
     "ename": "NameError",
     "evalue": "name 'sddr' is not defined",
     "output_type": "error",
     "traceback": [
      "\u001b[0;31m---------------------------------------------------------------------------\u001b[0m",
      "\u001b[0;31mNameError\u001b[0m                                 Traceback (most recent call last)",
      "Cell \u001b[0;32mIn[5], line 1\u001b[0m\n\u001b[0;32m----> 1\u001b[0m partial_effects_loc \u001b[38;5;241m=\u001b[39m sddr\u001b[38;5;241m.\u001b[39meval(\u001b[38;5;124m'\u001b[39m\u001b[38;5;124mloc\u001b[39m\u001b[38;5;124m'\u001b[39m,plot\u001b[38;5;241m=\u001b[39m\u001b[38;5;28;01mTrue\u001b[39;00m)\n",
      "\u001b[0;31mNameError\u001b[0m: name 'sddr' is not defined"
     ]
    }
   ],
   "source": [
    "partial_effects_loc = sddr.eval('loc',plot=True)"
   ]
  },
  {
   "cell_type": "code",
   "execution_count": 7,
   "metadata": {},
   "outputs": [
    {
     "name": "stdout",
     "output_type": "stream",
     "text": [
      "Nothing to plot. No (non-)linear partial effects specified for this parameter. (Deep partial effects are not plotted.)\n"
     ]
    }
   ],
   "source": [
    "partial_effects_scale = sddr.eval('scale',plot=True)"
   ]
  },
  {
   "cell_type": "markdown",
   "metadata": {},
   "source": [
    "As we can see the distributional parameter loc has two parial effects, one sinusoidal and one quadratic. The parameter scale expectedly has no partial effect since the formula only includes an intercept.\n",
    "\n",
    "Next we retrieve our ground truth data and compare it with the model's estimation"
   ]
  },
  {
   "cell_type": "code",
   "execution_count": 25,
   "metadata": {},
   "outputs": [
    {
     "name": "stdout",
     "output_type": "stream",
     "text": [
      "Predicted variance for first sample: tensor([1.3791])\n"
     ]
    },
    {
     "data": {
      "image/png": "[encoded data removed]",
      "text/plain": [
       "<Figure size 640x480 with 1 Axes>"
      ]
     },
     "metadata": {},
     "output_type": "display_data"
    }
   ],
   "source": [
    "# compare prediction of neural network with ground truth\n",
    "data_pred = data.loc[:,:]\n",
    "ground_truth  = data.loc[:,'y_gen']\n",
    "\n",
    "# predict returns partial effects and a distributional layer that gives statistical information about the prediction\n",
    "distribution_layer, partial_effect = sddr.predict(data_pred,\n",
    "                                                  clipping=True, \n",
    "                                                  plot=False, \n",
    "                                                  unstructured_data = unstructured_data)\n",
    "# retrieve the mean and  variance of the distributional layer\n",
    "predicted_mean = distribution_layer.loc[:,:].T\n",
    "predicted_variance = distribution_layer.scale[0]\n",
    "\n",
    "# and plot the result\n",
    "plt.scatter(ground_truth, predicted_mean)\n",
    "print(f\"Predicted variance for first sample: {predicted_variance}\")"
   ]
  },
  {
   "cell_type": "markdown",
   "metadata": {},
   "source": [
    "The comparison shows that for most samples the predicted and true values are directly propotional.\n",
    "\n",
    "Next we want to check if the model learned the correct correspondence of images and numbers"
   ]
  },
  {
   "cell_type": "code",
   "execution_count": 9,
   "metadata": {},
   "outputs": [
    {
     "data": {
      "image/png": "[encoded data removed]",
      "text/plain": [
       "<Figure size 640x480 with 1 Axes>"
      ]
     },
     "metadata": {},
     "output_type": "display_data"
    }
   ],
   "source": [
    "# we create a copy of our original structured data where we set all inputs but the images to be zero\n",
    "data_pred_copy = data.copy()\n",
    "data_pred_copy.loc[:,'x1'] = 0\n",
    "data_pred_copy.loc[:,'x2'] = 0\n",
    "data_pred_copy.loc[:,'x3'] = 0\n",
    "\n",
    "# and make a prediction using only the images\n",
    "distribution_layer, partial_effect = sddr.predict(data_pred_copy,\n",
    "                                                  clipping=True, \n",
    "                                                  plot=False, \n",
    "                                                  unstructured_data = unstructured_data)\n",
    "# add the predicted mean value to our tabular data\n",
    "data_pred_copy['predicted_number'] = distribution_layer.loc[:,:].numpy().flatten()\n",
    "\n",
    "# and compare the true number on the images with the predicted number\n",
    "ax = sns.boxplot(x=\"y_true\", y=\"predicted_number\", data=data_pred_copy)\n",
    "\n",
    "ax.set_xlabel(\"true number\");\n",
    "ax.set_ylabel(\"predicted latent effect of number\");"
   ]
  },
  {
   "cell_type": "markdown",
   "metadata": {},
   "source": [
    "Observing the boxplot figure we see that as the true values, i.e. numbers depicted on images, are increasing, so too are the medians of the predicted distributions. Therefore the partial effect of the neural network is directly correlated with the number depicted in the MNIST images, proving that our neural network, though simple, has learned from the unstructured data."
   ]
  },
  {
   "cell_type": "markdown",
   "metadata": {},
   "source": []
  }
 ],
 "metadata": {
  "kernelspec": {
   "display_name": "base",
   "language": "python",
   "name": "python3"
  },
  "language_info": {
   "codemirror_mode": {
    "name": "ipython",
    "version": 3
   },
   "file_extension": ".py",
   "mimetype": "text/x-python",
   "name": "python",
   "nbconvert_exporter": "python",
   "pygments_lexer": "ipython3",
   "version": "3.12.2"
  }
 },
 "nbformat": 4,
 "nbformat_minor": 4
}
